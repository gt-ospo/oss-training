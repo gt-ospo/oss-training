{
 "cells": [
  {
   "cell_type": "markdown",
   "id": "2904f699-f825-45e8-8972-ae4abb5e2119",
   "metadata": {},
   "source": [
    "# OSS Module 02 - Git Workflows - Issues, Forks, and Pull Requests\n",
    "\n",
    "<img src=\"../img/github-mark.png\" width=\"200\" />"
   ]
  },
  {
   "cell_type": "markdown",
   "id": "cb130dd5-bcf5-4260-9a92-2cd9cf007f94",
   "metadata": {},
   "source": [
    "# Contents\n",
    "- [1: About this training module](#1:-About-this-training-module)\n",
    "- [2: Issues](#2:-Issues)\n",
    "- [3: Pull requests](#3:-Pull-requests)\n",
    "- [4: Forks](#4:-Forks)\n",
    "- [5: The fork/pull workflow](#5:-The-fork-pull-workflow)"
   ]
  },
  {
   "cell_type": "markdown",
   "id": "84fc39ad-5930-4336-90a1-e017e357cf49",
   "metadata": {},
   "source": [
    "# 1: About this training module\n",
    "\n",
    "## Getting Started\n",
    "This training module will introduce you to collaborative workflows on GitHub.  We will look at some real world workflows from the NumPy repo.  Then we will proceed with some exercies in the `gt-ospo` GitHub organization. \n",
    "\n",
    "It is highly recommended that you read [Module 1: Git](https://github.com/gt-ospo/oss-training/blob/main/oss-module-01-git.ipynb) before proceeding with this module.  \n",
    "\n",
    "The excercies at the end require you to:\n",
    "\n",
    "1. Have Git on your computer\n",
    "2. Have a GitHub account\n",
    "3. Be a member of the gt-ospo Git organization\n",
    "\n",
    "## One size doesn't fit all!\n",
    "\n",
    "GitHub offers a wealth of collaborative tools.  We are covering the most common ones today, which are well-documented on GitHub.  We expect most projects will make use of these tools.  However, many project's will use more, and some will use fewer, depending on the project.  Please defer to your project's maintainers about their workflows."
   ]
  },
  {
   "cell_type": "markdown",
   "id": "a886500c-9d9f-4fc9-9df7-4d50026d0af5",
   "metadata": {},
   "source": [
    "# 1: Issues\n",
    "\n",
    "## What is an Issue?\n",
    "\n",
    "Before we talk about actually contributing new code, let's talk about beginning the conversation with **Issues**.  \n",
    "\n",
    "When you create an issue, you are starting a conversation thread about a specific topic with the project's maintainers, uses, and other stakeholders.  Many projects will use issues for suggesting feature enhancements and reporting bugs.  \n",
    "\n",
    "Issues have a huge number of benefits.  Here are just a few:\n",
    "\n",
    "* When you want to contribute features or bugfixes to an existing project, you first want to make sure the changes are in the interests of the stakeholders.  You don't waste your time or the maintainers' time by developing code that is not of interest.  Starting with Issue can ensure that you and the stakeholders are on the same page before you start work.\n",
    "* They can be linked to Pull Requests, where new code is actually contributed.  More on that below...\n",
    "* It serves as a record of project development and bug reports.  Many times, when you encounter a bug in a project, you can search historical issues on GitHub to find an answer to your problem.\n",
    "* They are an excellent fit for project management.  Issues can tranlate to tasks and be tracked by project management tools, like a Kanban board.  Hence, even internal projects will often use Issues to track the internal team's work.\n",
    "\n",
    "The GitHub docs have much more info in: [\"Tracking your work with Issues\"](https://docs.github.com/en/issues/tracking-your-work-with-issues)\n",
    "\n",
    "## About codes of conduct\n",
    "\n",
    "Issues are one of many ways to have conversations on GitHub.  As with any online conversations, mutual respect is crucial.  Most projects ([such as ours!](https://github.com/gt-ospo/vsip-summer-2024-projects/blob/main/CODE_OF_CONDUCT.md)) have a code of conduct to help keep conversations respectful.  This makes sure everyone has productive (and hopefully fun!) experience.  \n"
   ]
  },
  {
   "cell_type": "markdown",
   "id": "6f1348e4-14ac-4b2f-98d8-18587f75dd9f",
   "metadata": {},
   "source": [
    "## A real-world example: Issues in NumPy\n",
    "\n",
    "NumPy is a huge project.  To manage it, the team uses very well-structured issues.  Let's begin by looking at the [issues page](https://github.com/numpy/numpy/issues):"
   ]
  },
  {
   "cell_type": "markdown",
   "id": "ad230560-1dfc-431a-a3ae-343b169ade00",
   "metadata": {},
   "source": [
    "<img src=\"../img/numpy-issues-01.png\" width=\"600\" />"
   ]
  },
  {
   "cell_type": "markdown",
   "id": "02a0655a-1f49-45da-bef5-3b22ad919de6",
   "metadata": {},
   "source": [
    "On the issues page, you can [create a new issue](https://github.com/numpy/numpy/issues/new/choose):"
   ]
  },
  {
   "cell_type": "markdown",
   "id": "52fb4be9-e552-4023-adc8-46f5145fed0a",
   "metadata": {},
   "source": [
    "<img src=\"../img/numpy-issues-02.png\" width=\"600\" />"
   ]
  },
  {
   "cell_type": "markdown",
   "id": "9c9e31f6-a021-44c0-a287-00a1efcdd522",
   "metadata": {},
   "source": [
    "When you create a issue, you are first prompted to chose they type of issue:  A bug report, a feature request, a documentation issue, and others:\n",
    "\n",
    "<img src=\"../img/numpy-issues-03.png\" width=\"600\" />"
   ]
  },
  {
   "cell_type": "markdown",
   "id": "d710f46b-3edb-478a-8f97-a501660db8df",
   "metadata": {},
   "source": [
    "Let's look at the form for a bug report.  \n",
    "* NumPy has a detailed form with required info.  This helps the NumPy devs understand your issue and deal with it efficiently.\n",
    "* The issue is auto-tagged with a **label** named \"00 - Bug\""
   ]
  },
  {
   "cell_type": "markdown",
   "id": "ab92b9b1-8e79-4e1d-b46e-f43160725056",
   "metadata": {},
   "source": [
    "<img src=\"../img/numpy-issues-04.png\" width=\"600\" />"
   ]
  },
  {
   "cell_type": "markdown",
   "id": "1cdbedf8-9a80-4ade-81b6-bef5a5b30bbc",
   "metadata": {},
   "source": [
    "Labels are ways to help humans organize issues.  Going back to main issues page, can see issues with other labels.  Labels for bugs, enchancements, and documentation are used by many projects.  Many projects all labels for a good first issue for new contributors (for example, [pandas](https://github.com/pandas-dev/pandas/labels/good%20first%20issue)).\n",
    "\n",
    "<img src=\"../img/numpy-issues-05.png\" width=\"600\" />"
   ]
  },
  {
   "cell_type": "markdown",
   "id": "4b82d672-529e-4bb8-8fbc-7b723ba72dfd",
   "metadata": {},
   "source": [
    "## Issues in smaller projects\n",
    "\n",
    "Because NumPy is such a huge project, it makes use of many high-level GitHub features for managing issues.  Many projects will not make use every single feature.  For example, NumPy uses the newer [Issue Forms](https://docs.github.com/en/communities/using-templates-to-encourage-useful-issues-and-pull-requests/configuring-issue-templates-for-your-repository#creating-issue-forms) feature, but many repos use the simpler [Issue Templates](https://docs.github.com/en/communities/using-templates-to-encourage-useful-issues-and-pull-requests/configuring-issue-templates-for-your-repository#creating-issue-templates) feature\n",
    "\n",
    "Some features that are used by both large  and small projects:\n",
    "* Labels\n",
    "* Assignees\n",
    "* Linking to a pull request (more below...)"
   ]
  },
  {
   "cell_type": "markdown",
   "id": "a67c69a5-97e1-4bc9-ac21-8424791ad390",
   "metadata": {},
   "source": [
    "## How issues get discussed and resolved\n",
    "\n",
    "Let's look at an existing Issue in NumPy, [#26314](https://github.com/numpy/numpy/issues/26314), to see how issues are discussed and resolved.\n",
    "* The initial post has a proposal for a new feature.\n",
    "* It was tagged with \"01 - Enhancement\"\n",
    "* There was a follow-up conversation with other devs.  This made it clear that the feature was desirable.\n",
    "* The issue was assigned to a developer for follow-up.  In this case, the assignee was the original submitter.  In other cases (for example, bug reports from users), the assignee might be a different person from the submitter.  \n"
   ]
  },
  {
   "cell_type": "markdown",
   "id": "823eb584-d27b-4add-894f-648bd1547565",
   "metadata": {},
   "source": [
    "<img src=\"../img/numpy-issues-06.png\" width=\"600\" />"
   ]
  },
  {
   "cell_type": "markdown",
   "id": "645993e7-421c-4727-a884-7451a9c466f7",
   "metadata": {},
   "source": [
    "Finally, note that this issue was linked to the **pull request** that addresses the issue.  We will discuss pull requests next."
   ]
  },
  {
   "cell_type": "markdown",
   "id": "5a60a2bd-43b2-40c0-99c1-0b91cbaca3f5",
   "metadata": {},
   "source": [
    "<img src=\"../img/numpy-issues-07.png\" width=\"400\" />"
   ]
  },
  {
   "cell_type": "markdown",
   "id": "34b9a3af-9d1f-4d22-9124-9b4bbb4a14e6",
   "metadata": {},
   "source": [
    "Pull requests\n",
    "* How big should a PR be (lines of code, scope, …)\n",
    "* What should you write in the PR description?\n",
    "* How are PRs reviewed?\n",
    "* Refs:\n",
    "  * https://opensource.com/article/18/6/anatomy-perfect-pull-request\n",
    "  * https://docs.github.com/en/pull-requests/collaborating-with-pull-requests/getting-started/best-practices-for-pull-requests\n",
    "  * https://github.blog/2015-01-21-how-to-write-the-perfect-pull-request/"
   ]
  },
  {
   "cell_type": "markdown",
   "id": "3a43ec2c-8d57-41c9-ab3b-5d4675f9c4ea",
   "metadata": {},
   "source": [
    "# Pull requests"
   ]
  },
  {
   "cell_type": "markdown",
   "id": "3556b33a-c1d0-4fcb-8a22-1f32c1531f67",
   "metadata": {},
   "source": [
    "As described by the GitHub docs [\"About pull requests\"](https://docs.github.com/en/pull-requests/collaborating-with-pull-requests/proposing-changes-to-your-work-with-pull-requests/about-pull-requests)\n",
    "\n",
    "\"A **pull request** is a proposal to merge a set of changes from one branch into another.  In a pull request, collaborators can review and discuss the proposed set of changes before they integrate the changes into the main codebase.\"\n",
    "\n",
    "It can be helpful to think of a pull requests as a way to do collaborative `git merge` on a remote repo, rather than in one person's local working copy of a repo.  And indeed, on the backend of GitHub, a pull request is ultimately ful\n",
    "\n",
    "The Pull Request is a **proposal** that is intended to initiate a conversation with the project maintainers.  The merge does not automatically happen *until* a human completes it. Submitting a PR can additionally trigger automated testing.  The repo is often configured with controls to enforce a specific process:\n",
    "\n",
    "* Require a review from designated reviewer(s) before merging\n",
    "* Require all tests to pass before merging\n",
    "\n"
   ]
  },
  {
   "cell_type": "markdown",
   "id": "e77ce900-703a-4071-8af1-c6f127bba03a",
   "metadata": {},
   "source": [
    "Returning to Issue [#26314](https://github.com/numpy/numpy/issues/26314) in NumPy, let's look at the pull request that was linked to it:  PR [#26345](https://github.com/numpy/numpy/pull/26345).  \n",
    "\n",
    "We see that:\n",
    "\n",
    "* The submitter is requesting to merge the topic branch `mtsokol:printoptions-contextvar` into the **target branch** `numpy:main`\n",
    "* The submitter has linked it to an Issue by writing \"Issue #26314\" in the description.  Linking a PR to an issue is not required, but it can be extremely helpful for managing your project.  See the GitHub docs, [\"Linking a pull request it an issue](https://docs.github.com/en/issues/tracking-your-work-with-issues/linking-a-pull-request-to-an-issue) for more details\n",
    "* Another developer has been assigned to review it\n",
    "* You can click on \"Files changed\" to see the diff between the topic branch and the target branch\n",
    "\n",
    "<img src=\"../img/numpy-pr-01.png\" width=\"400\" />"
   ]
  },
  {
   "cell_type": "markdown",
   "id": "548ff0a1-3dfa-4bc2-9f10-ecc1436e82f3",
   "metadata": {},
   "source": [
    "Reviews can be very detailed with line-by-line conversation threads:\n",
    "\n",
    "<img src=\"../img/numpy-pr-02.png\" width=\"400\" />"
   ]
  },
  {
   "cell_type": "markdown",
   "id": "efae8ace-9762-467d-a0e0-f0eb7ec4a8ca",
   "metadata": {},
   "source": [
    "This repo has automated tests.  This repo has code quality tests (like a linter), static analyis tools (mypy) and tests for the actual functionality.  We'll learn more about automated testing in Module 03\n",
    "\n",
    "<img src=\"../img/numpy-pr-03.png\" width=\"400\" />"
   ]
  },
  {
   "cell_type": "markdown",
   "id": "4c5276ab-4d62-4bfc-96da-8690d82855c0",
   "metadata": {},
   "source": [
    "Looking back at the top of the PR, we saw that the submitter is requesting to merge the topic branch `mtsokol:printoptions-contextvar` into the target branch `numpy:main`.  This means that:\n",
    "* The topic branch was on the submitters **copy** of the repo, https://github.com/mtsokol/numpy\n",
    "* The target branch was on the original repo, https://github.com/numpy/numpy\n",
    "\n",
    "The submitter's copy is called a **fork** or the original.  We'll talk about that next."
   ]
  },
  {
   "cell_type": "markdown",
   "id": "f006b039-4c2c-4479-adf1-20ca29d89f0a",
   "metadata": {},
   "source": [
    "# Forks\n",
    "\n",
    "By creating a **fork**, you are creating a copy of another repo that:\n",
    "* Shares the history of the original \n",
    "* Is linked to the original for the purposes of pull requests.\n",
    "\n",
    "In a forking workflow, the original copy is called the **upstream**.  \n",
    "\n",
    "In your fork, you can make changes to a project without affecting the upstream. Then when you're ready to propose an update to upstream, you submit a pull request. When you're commiting, pushing, pulling, and doing other Git tasks with your fork, **it acts exactly like any other repo**.  \n",
    "\n",
    "There is much more info on the GitHub docs, [\"About forks\"](https://docs.github.com/en/pull-requests/collaborating-with-pull-requests/working-with-forks/about-forks)"
   ]
  },
  {
   "cell_type": "markdown",
   "id": "b1fd34ac-6f88-441e-9d6b-f29a2bd6424e",
   "metadata": {},
   "source": [
    "## Creating a fork"
   ]
  },
  {
   "cell_type": "markdown",
   "id": "c2a949f6-55a5-4703-983e-8e026eb0c9f8",
   "metadata": {},
   "source": [
    "Start from:  https://github.com/gt-ospo/summer-internship-program\n",
    "* Owned by the organization `gt-ospo`\n",
    "\n",
    "<img src=\"../img/gt-ospo-fork-01.png\" width=\"400\" />\n"
   ]
  },
  {
   "cell_type": "markdown",
   "id": "2a44d423-839a-453d-a633-298aa5e31fa1",
   "metadata": {},
   "source": [
    "<img src=\"../img/gt-ospo-fork-02.png\" width=\"400\" />"
   ]
  },
  {
   "cell_type": "markdown",
   "id": "18dbd9ac-f5a1-44b3-8455-6e2ab3f962d9",
   "metadata": {},
   "source": [
    "* Creating this in my personal account (could be another org\n",
    "* Getting all the branches (I like to do this, but might not want to do that if there are a whole bunch of branches)"
   ]
  },
  {
   "cell_type": "markdown",
   "id": "c333c191-ab22-4973-8e39-a7bffccdd1d0",
   "metadata": {},
   "source": [
    "<img src=\"../img/gt-ospo-fork-03.png\" width=\"400\" />\n",
    "\n",
    "Now I have my own repo at:  https://github.com/RonRahaman/summer-internship-program\n",
    "Share a history with the upstream"
   ]
  },
  {
   "cell_type": "markdown",
   "id": "45617687-487c-4173-a32e-59f9b21fb1ab",
   "metadata": {},
   "source": [
    "## Working with your fork\n",
    "\n",
    "At this point, I can clone my fork as usual:"
   ]
  },
  {
   "cell_type": "code",
   "execution_count": 6,
   "id": "68627070-b642-4430-ad5d-20d51581c985",
   "metadata": {},
   "outputs": [
    {
     "name": "stdout",
     "output_type": "stream",
     "text": [
      "Cloning into 'summer-internship-program'...\n",
      "remote: Enumerating objects: 88, done.\u001b[K\n",
      "remote: Counting objects: 100% (88/88), done.\u001b[K\n",
      "remote: Compressing objects: 100% (83/83), done.\u001b[K\n",
      "remote: Total 88 (delta 19), reused 0 (delta 0), pack-reused 0\u001b[K\n",
      "Receiving objects: 100% (88/88), 19.74 MiB | 8.82 MiB/s, done.\n",
      "Resolving deltas: 100% (19/19), done.\n"
     ]
    }
   ],
   "source": [
    "git clone git@github.com:RonRahaman/summer-internship-program.git"
   ]
  },
  {
   "cell_type": "code",
   "execution_count": 7,
   "id": "618fe02b-8727-42c1-a1d1-8195fa739868",
   "metadata": {},
   "outputs": [],
   "source": [
    "cd summer-internship-program"
   ]
  },
  {
   "cell_type": "markdown",
   "id": "c3e40fc9-86cd-4162-b079-369329b5bdae",
   "metadata": {},
   "source": [
    "In my working copy, I my fork is named \"origin\""
   ]
  },
  {
   "cell_type": "code",
   "execution_count": 8,
   "id": "598d219b-8456-451a-aef5-316561825a06",
   "metadata": {},
   "outputs": [
    {
     "name": "stdout",
     "output_type": "stream",
     "text": [
      "origin\tgit@github.com:RonRahaman/summer-internship-program.git (fetch)\n",
      "origin\tgit@github.com:RonRahaman/summer-internship-program.git (push)\n"
     ]
    }
   ],
   "source": [
    "git remote -v"
   ]
  },
  {
   "cell_type": "markdown",
   "id": "775a65df-9933-4084-90fb-880164adc0ce",
   "metadata": {},
   "source": [
    "Now, I will add the original repo as an upstream.  \n",
    "\n",
    "Recall that we can use the command `git remote add NAME URL` to add a new remote.  The NAME can be anything and doesn't affect GitHub.  But to keep myself sane, I'll follow the widespread convention that the original repo is named \"upstream\""
   ]
  },
  {
   "cell_type": "code",
   "execution_count": 9,
   "id": "0354c8a7-81ce-4c62-86fe-0bda1563c993",
   "metadata": {},
   "outputs": [],
   "source": [
    "git remote add upstream git@github.com:gt-ospo/summer-internship-program.git"
   ]
  },
  {
   "cell_type": "markdown",
   "id": "8c053892-235a-45a0-b6d5-dd67353fc122",
   "metadata": {},
   "source": [
    "Now we can see both remotes:"
   ]
  },
  {
   "cell_type": "code",
   "execution_count": 10,
   "id": "01af79d9-97c0-4876-b686-91fb930fdc6d",
   "metadata": {},
   "outputs": [
    {
     "name": "stdout",
     "output_type": "stream",
     "text": [
      "origin\tgit@github.com:RonRahaman/summer-internship-program.git (fetch)\n",
      "origin\tgit@github.com:RonRahaman/summer-internship-program.git (push)\n",
      "upstream\tgit@github.com:gt-ospo/summer-internship-program.git (fetch)\n",
      "upstream\tgit@github.com:gt-ospo/summer-internship-program.git (push)\n"
     ]
    }
   ],
   "source": [
    "git remote -v"
   ]
  },
  {
   "cell_type": "markdown",
   "id": "95a5ab41-31d7-48ac-9e7d-421842a5eb5b",
   "metadata": {},
   "source": [
    "But at this point, you will only see remote tracking branches from \"origin\".  Recall that `origin/main` shows the known status of the branch \"main\" on the remote \"origin\""
   ]
  },
  {
   "cell_type": "code",
   "execution_count": 11,
   "id": "ca5c6fb9-6af4-4026-a212-4117524ec922",
   "metadata": {},
   "outputs": [
    {
     "name": "stdout",
     "output_type": "stream",
     "text": [
      "\u001b[33mdcffbc5\u001b[m\u001b[33m (\u001b[m\u001b[1;36mHEAD -> \u001b[m\u001b[1;32mmain\u001b[m\u001b[33m, \u001b[m\u001b[1;31morigin/main\u001b[m\u001b[33m, \u001b[m\u001b[1;31morigin/HEAD\u001b[m\u001b[33m)\u001b[m Update information_session_agenda.md\n",
      "\u001b[33m841cca0\u001b[m Update information_session_agenda.md\n",
      "\u001b[33mc30f9c3\u001b[m Added VSIP introduction slides\n",
      "\u001b[33mcbf5fcc\u001b[m Delete 2024/project_slides/.gitkeep\n",
      "\u001b[33maad7b66\u001b[m Merge pull request #1 from sbryngelson/main\n",
      "\u001b[33m1b64ea5\u001b[m Update information_session_agenda.md\n",
      "\u001b[33madb2b7f\u001b[m Update information_session_agenda.md\n",
      "\u001b[33mb0f9827\u001b[m FL: Updated three slide links\n",
      "\u001b[33m0e769d2\u001b[m FL: added two more presentation\n",
      "\u001b[33m8a7ddf8\u001b[m FL: Updte trestle\n",
      "\u001b[33m992f802\u001b[m Update information_session_agenda.md\n",
      "\u001b[33mb9c8deb\u001b[m Update README.md\n",
      "\u001b[33ma9ba7b5\u001b[m Update information_session_agenda.md\n",
      "\u001b[33ma2c9156\u001b[m Update agenda for Summer 2024 session\n",
      "\u001b[33ma7b1b45\u001b[m Update information_session_agenda.md\n",
      "\u001b[33m7fe5e27\u001b[m FL: Upload 12 IBM projects with naming conversion\n",
      "\u001b[33m304bf98\u001b[m Create information_session_agenda.md\n",
      "\u001b[33mf018ed8\u001b[m Create .gitkeep\n",
      "\u001b[33m682ca09\u001b[m Initial commit\n"
     ]
    }
   ],
   "source": [
    "git log --remotes --oneline"
   ]
  },
  {
   "cell_type": "markdown",
   "id": "9713af28-2055-476a-90d7-3e74a90da082",
   "metadata": {},
   "source": [
    "To get this remote tracking info, we use `git fetch`.  Recall that `git fetch` will update our remote tracking branches.  We could use `git fetch upstream` to fetch remote tracking branches from upstream.  We can also use `git fetch --all` if we want to fetch from all our remotes at once.  "
   ]
  },
  {
   "cell_type": "code",
   "execution_count": 12,
   "id": "fc3fe7bc-d2ff-4b1a-a7d8-10d47f67ed46",
   "metadata": {
    "scrolled": true
   },
   "outputs": [
    {
     "name": "stdout",
     "output_type": "stream",
     "text": [
      "From github.com:gt-ospo/summer-internship-program\n",
      " * [new branch]      main       -> upstream/main\n"
     ]
    }
   ],
   "source": [
    "git fetch upstream"
   ]
  },
  {
   "cell_type": "markdown",
   "id": "f095b017-4d9f-410a-bd98-b7cc1f2bb04b",
   "metadata": {},
   "source": [
    "Now we can see that we have remote tracking branches for upstream, too.  Note that `origin/main`, `upstream/main`, and `main` are all in the same place now."
   ]
  },
  {
   "cell_type": "code",
   "execution_count": 13,
   "id": "2fd97724-0c42-4901-8dab-d792f4305295",
   "metadata": {},
   "outputs": [
    {
     "name": "stdout",
     "output_type": "stream",
     "text": [
      "\u001b[33mdcffbc5\u001b[m\u001b[33m (\u001b[m\u001b[1;36mHEAD -> \u001b[m\u001b[1;32mmain\u001b[m\u001b[33m, \u001b[m\u001b[1;31mupstream/main\u001b[m\u001b[33m, \u001b[m\u001b[1;31morigin/main\u001b[m\u001b[33m, \u001b[m\u001b[1;31morigin/HEAD\u001b[m\u001b[33m)\u001b[m Update information_session_agenda.md\n",
      "\u001b[33m841cca0\u001b[m Update information_session_agenda.md\n",
      "\u001b[33mc30f9c3\u001b[m Added VSIP introduction slides\n",
      "\u001b[33mcbf5fcc\u001b[m Delete 2024/project_slides/.gitkeep\n",
      "\u001b[33maad7b66\u001b[m Merge pull request #1 from sbryngelson/main\n",
      "\u001b[33m1b64ea5\u001b[m Update information_session_agenda.md\n",
      "\u001b[33madb2b7f\u001b[m Update information_session_agenda.md\n",
      "\u001b[33mb0f9827\u001b[m FL: Updated three slide links\n",
      "\u001b[33m0e769d2\u001b[m FL: added two more presentation\n",
      "\u001b[33m8a7ddf8\u001b[m FL: Updte trestle\n",
      "\u001b[33m992f802\u001b[m Update information_session_agenda.md\n",
      "\u001b[33mb9c8deb\u001b[m Update README.md\n",
      "\u001b[33ma9ba7b5\u001b[m Update information_session_agenda.md\n",
      "\u001b[33ma2c9156\u001b[m Update agenda for Summer 2024 session\n",
      "\u001b[33ma7b1b45\u001b[m Update information_session_agenda.md\n",
      "\u001b[33m7fe5e27\u001b[m FL: Upload 12 IBM projects with naming conversion\n",
      "\u001b[33m304bf98\u001b[m Create information_session_agenda.md\n",
      "\u001b[33mf018ed8\u001b[m Create .gitkeep\n",
      "\u001b[33m682ca09\u001b[m Initial commit\n"
     ]
    }
   ],
   "source": [
    "git log --remotes --oneline"
   ]
  },
  {
   "cell_type": "markdown",
   "id": "bf432a03-0286-42e9-b2a5-bcd0291d73d4",
   "metadata": {},
   "source": [
    "I'm going to make a change to `README.md`, then commit and push it to my fork."
   ]
  },
  {
   "cell_type": "code",
   "execution_count": 14,
   "id": "06e24996-1b74-40e1-a0c7-d33cbb82d8bc",
   "metadata": {},
   "outputs": [
    {
     "name": "stdout",
     "output_type": "stream",
     "text": [
      "Switched to a new branch 'module02-training'\n"
     ]
    }
   ],
   "source": [
    "git checkout -b module02-training"
   ]
  },
  {
   "cell_type": "markdown",
   "id": "1916598f-ec0d-407d-9943-eb450b7031a3",
   "metadata": {},
   "source": [
    "I corrected a typo in the text editor.  Here is the diff:"
   ]
  },
  {
   "cell_type": "code",
   "execution_count": 15,
   "id": "ba5b96f8-054f-431b-bfbf-ce51ac266290",
   "metadata": {
    "scrolled": true
   },
   "outputs": [
    {
     "name": "stdout",
     "output_type": "stream",
     "text": [
      "\u001b[1mdiff --git a/README.md b/README.md\u001b[m\n",
      "\u001b[1mindex 699d321..cccbc96 100644\u001b[m\n",
      "\u001b[1m--- a/README.md\u001b[m\n",
      "\u001b[1m+++ b/README.md\u001b[m\n",
      "\u001b[36m@@ -1,5 +1,5 @@\u001b[m\n",
      " # GT OSPO Summer Internship Program\u001b[m\n",
      " \u001b[m\n",
      "\u001b[31m-In collaboration with researchers from IBM, the GT OSPO is establishing a new Virtual Summer Internship Program for students to participate in various open-source projects during the 2024 summer session. During the internship, students will join an open source project, work with the developers and maintainers of that project to make contributions to the code base, and learn useful software development and engineering skills to engage with the wider open source community. \u001b[m\n",
      "\u001b[32m+\u001b[m\u001b[32mIn collaboration with researchers from IBM, the GT OSPO is establishing a new Virtual Summer Internship Program for students to participate in various open-source projects during the 2024 summer session. During the internship, students will join an open source project, work with the developers and maintainers of that project to make contributions to the code base, and learn useful software development and engineering skills to engage with the wider open-source community.\u001b[m\u001b[41m \u001b[m\n",
      " \u001b[m\n",
      " If you are interested to learn more about this internship, please see the [main VSIP program page here](https://ospo.cc.gatech.edu/vsip/) and the [agenda for the February 27th event](https://github.com/gt-ospo/summer-internship-program/blob/main/2024/information_session_agenda.md). \u001b[m\n"
     ]
    }
   ],
   "source": [
    "git diff"
   ]
  },
  {
   "cell_type": "code",
   "execution_count": 16,
   "id": "760e3c03-7ace-49e6-a687-3ca845f9cb12",
   "metadata": {},
   "outputs": [
    {
     "name": "stdout",
     "output_type": "stream",
     "text": [
      "On branch module02-training\n",
      "Changes not staged for commit:\n",
      "  (use \"git add <file>...\" to update what will be committed)\n",
      "  (use \"git restore <file>...\" to discard changes in working directory)\n",
      "\t\u001b[31mmodified:   README.md\u001b[m\n",
      "\n",
      "Untracked files:\n",
      "  (use \"git add <file>...\" to include in what will be committed)\n",
      "\t\u001b[31m.ipynb_checkpoints/\u001b[m\n",
      "\n",
      "no changes added to commit (use \"git add\" and/or \"git commit -a\")\n"
     ]
    }
   ],
   "source": [
    "git status"
   ]
  },
  {
   "cell_type": "code",
   "execution_count": 17,
   "id": "38819fcf-dd41-483e-a531-762cf94b9f67",
   "metadata": {},
   "outputs": [],
   "source": [
    "git add README.md"
   ]
  },
  {
   "cell_type": "code",
   "execution_count": 18,
   "id": "523a5f5c-02e3-4ef5-bd77-fa1e776aad90",
   "metadata": {},
   "outputs": [
    {
     "name": "stdout",
     "output_type": "stream",
     "text": [
      "[module02-training a2d0a7b] RR: Correct hyphen in 'open-source'\n",
      " 1 file changed, 1 insertion(+), 1 deletion(-)\n"
     ]
    }
   ],
   "source": [
    "git commit -m \"RR: Correct hyphen in 'open-source'\""
   ]
  },
  {
   "cell_type": "code",
   "execution_count": 20,
   "id": "d3b31864-7eb7-4790-ab49-49791822f6b1",
   "metadata": {},
   "outputs": [
    {
     "name": "stdout",
     "output_type": "stream",
     "text": [
      "\u001b[33ma2d0a7b\u001b[m\u001b[33m (\u001b[m\u001b[1;36mHEAD -> \u001b[m\u001b[1;32mmodule02-training\u001b[m\u001b[33m)\u001b[m RR: Correct hyphen in 'open-source'\n",
      "\u001b[33mdcffbc5\u001b[m\u001b[33m (\u001b[m\u001b[1;31mupstream/main\u001b[m\u001b[33m, \u001b[m\u001b[1;31morigin/main\u001b[m\u001b[33m, \u001b[m\u001b[1;31morigin/HEAD\u001b[m\u001b[33m, \u001b[m\u001b[1;32mmain\u001b[m\u001b[33m)\u001b[m Update information_session_agenda.md\n",
      "\u001b[33m841cca0\u001b[m Update information_session_agenda.md\n",
      "\u001b[33mc30f9c3\u001b[m Added VSIP introduction slides\n",
      "\u001b[33mcbf5fcc\u001b[m Delete 2024/project_slides/.gitkeep\n",
      "\u001b[33maad7b66\u001b[m Merge pull request #1 from sbryngelson/main\n",
      "\u001b[33m1b64ea5\u001b[m Update information_session_agenda.md\n",
      "\u001b[33madb2b7f\u001b[m Update information_session_agenda.md\n",
      "\u001b[33mb0f9827\u001b[m FL: Updated three slide links\n",
      "\u001b[33m0e769d2\u001b[m FL: added two more presentation\n",
      "\u001b[33m8a7ddf8\u001b[m FL: Updte trestle\n",
      "\u001b[33m992f802\u001b[m Update information_session_agenda.md\n",
      "\u001b[33mb9c8deb\u001b[m Update README.md\n",
      "\u001b[33ma9ba7b5\u001b[m Update information_session_agenda.md\n",
      "\u001b[33ma2c9156\u001b[m Update agenda for Summer 2024 session\n",
      "\u001b[33ma7b1b45\u001b[m Update information_session_agenda.md\n",
      "\u001b[33m7fe5e27\u001b[m FL: Upload 12 IBM projects with naming conversion\n",
      "\u001b[33m304bf98\u001b[m Create information_session_agenda.md\n",
      "\u001b[33mf018ed8\u001b[m Create .gitkeep\n",
      "\u001b[33m682ca09\u001b[m Initial commit\n"
     ]
    }
   ],
   "source": [
    "git log --remotes --oneline --branches"
   ]
  },
  {
   "cell_type": "code",
   "execution_count": 21,
   "id": "b7a251f1-897d-4663-aa2b-9396a62984c3",
   "metadata": {},
   "outputs": [
    {
     "name": "stdout",
     "output_type": "stream",
     "text": [
      "Enumerating objects: 5, done.\n",
      "Counting objects: 100% (5/5), done.\n",
      "Delta compression using up to 12 threads\n",
      "Compressing objects: 100% (3/3), done.\n",
      "Writing objects: 100% (3/3), 324 bytes | 324.00 KiB/s, done.\n",
      "Total 3 (delta 1), reused 0 (delta 0), pack-reused 0\n",
      "remote: Resolving deltas: 100% (1/1), completed with 1 local object.\u001b[K\n",
      "remote: \n",
      "remote: Create a pull request for 'module02-training' on GitHub by visiting:\u001b[K\n",
      "remote:      https://github.com/RonRahaman/summer-internship-program/pull/new/module02-training\u001b[K\n",
      "remote: \n",
      "To github.com:RonRahaman/summer-internship-program.git\n",
      " * [new branch]      module02-training -> module02-training\n",
      "Branch 'module02-training' set up to track remote branch 'module02-training' from 'origin'.\n"
     ]
    }
   ],
   "source": [
    "git push -u origin module02-training"
   ]
  },
  {
   "cell_type": "markdown",
   "id": "d20edb87-6b1b-4142-bb8f-224f1b358de7",
   "metadata": {},
   "source": [
    "## Submitting a pull request\n",
    "\n",
    "Now I will begin the process of submitting a pull request."
   ]
  },
  {
   "cell_type": "markdown",
   "id": "c99e041d-ad5f-48f1-8940-a008d00999ac",
   "metadata": {},
   "source": [
    "## Updating your fork from upstream\n",
    "\n",
    "After it's complete, let's go back to our working copy and check on our branches.  As we'd expect, the remote tracking branches are *not* yet up-to-date since we haven't explicitly fetched them"
   ]
  },
  {
   "cell_type": "code",
   "execution_count": 22,
   "id": "2322b4f8-1db6-4518-a4b4-020a22cc10d1",
   "metadata": {},
   "outputs": [
    {
     "name": "stdout",
     "output_type": "stream",
     "text": [
      "\u001b[33ma2d0a7b\u001b[m\u001b[33m (\u001b[m\u001b[1;36mHEAD -> \u001b[m\u001b[1;32mmodule02-training\u001b[m\u001b[33m, \u001b[m\u001b[1;31morigin/module02-training\u001b[m\u001b[33m)\u001b[m RR: Correct hyphen in 'open-source'\n",
      "\u001b[33mdcffbc5\u001b[m\u001b[33m (\u001b[m\u001b[1;31mupstream/main\u001b[m\u001b[33m, \u001b[m\u001b[1;31morigin/main\u001b[m\u001b[33m, \u001b[m\u001b[1;31morigin/HEAD\u001b[m\u001b[33m, \u001b[m\u001b[1;32mmain\u001b[m\u001b[33m)\u001b[m Update information_session_agenda.md\n",
      "\u001b[33m841cca0\u001b[m Update information_session_agenda.md\n",
      "\u001b[33mc30f9c3\u001b[m Added VSIP introduction slides\n",
      "\u001b[33mcbf5fcc\u001b[m Delete 2024/project_slides/.gitkeep\n",
      "\u001b[33maad7b66\u001b[m Merge pull request #1 from sbryngelson/main\n",
      "\u001b[33m1b64ea5\u001b[m Update information_session_agenda.md\n",
      "\u001b[33madb2b7f\u001b[m Update information_session_agenda.md\n",
      "\u001b[33mb0f9827\u001b[m FL: Updated three slide links\n",
      "\u001b[33m0e769d2\u001b[m FL: added two more presentation\n",
      "\u001b[33m8a7ddf8\u001b[m FL: Updte trestle\n",
      "\u001b[33m992f802\u001b[m Update information_session_agenda.md\n",
      "\u001b[33mb9c8deb\u001b[m Update README.md\n",
      "\u001b[33ma9ba7b5\u001b[m Update information_session_agenda.md\n",
      "\u001b[33ma2c9156\u001b[m Update agenda for Summer 2024 session\n",
      "\u001b[33ma7b1b45\u001b[m Update information_session_agenda.md\n",
      "\u001b[33m7fe5e27\u001b[m FL: Upload 12 IBM projects with naming conversion\n",
      "\u001b[33m304bf98\u001b[m Create information_session_agenda.md\n",
      "\u001b[33mf018ed8\u001b[m Create .gitkeep\n",
      "\u001b[33m682ca09\u001b[m Initial commit\n"
     ]
    }
   ],
   "source": [
    "git log --remotes --oneline"
   ]
  },
  {
   "cell_type": "markdown",
   "id": "fe63edd8-9437-4909-9f19-58410beda756",
   "metadata": {},
   "source": [
    "Let's go ahead and fetch all our remotes"
   ]
  },
  {
   "cell_type": "code",
   "execution_count": 24,
   "id": "82638245-b803-4649-bb91-71a275aa8828",
   "metadata": {
    "scrolled": true
   },
   "outputs": [
    {
     "name": "stdout",
     "output_type": "stream",
     "text": [
      "Fetching origin\n",
      "Fetching upstream\n",
      "remote: Enumerating objects: 1, done.\u001b[K\n",
      "remote: Counting objects: 100% (1/1), done.\u001b[K\n",
      "remote: Total 1 (delta 0), reused 0 (delta 0), pack-reused 0\u001b[K\n",
      "Unpacking objects: 100% (1/1), 927 bytes | 231.00 KiB/s, done.\n",
      "From github.com:gt-ospo/summer-internship-program\n",
      "   dcffbc5..5fedbcb  main       -> upstream/main\n"
     ]
    }
   ],
   "source": [
    "git fetch --all"
   ]
  },
  {
   "cell_type": "markdown",
   "id": "905d05d7-5665-40c2-b26d-2b45316daef1",
   "metadata": {},
   "source": [
    "And we can see that `upstream/main` is up-to-date.  But notice that `origin/main` and `main` do not have the merge.  The PR didn't affect them at all.  How do we fix it?"
   ]
  },
  {
   "cell_type": "code",
   "execution_count": 26,
   "id": "e1aea23c-fa26-4e23-926e-7cd71a757720",
   "metadata": {},
   "outputs": [
    {
     "name": "stdout",
     "output_type": "stream",
     "text": [
      "\u001b[33m5fedbcb\u001b[m\u001b[33m (\u001b[m\u001b[1;31mupstream/main\u001b[m\u001b[33m)\u001b[m Merge pull request #2 from RonRahaman/module02-training\n",
      "\u001b[33ma2d0a7b\u001b[m\u001b[33m (\u001b[m\u001b[1;36mHEAD -> \u001b[m\u001b[1;32mmodule02-training\u001b[m\u001b[33m, \u001b[m\u001b[1;31morigin/module02-training\u001b[m\u001b[33m)\u001b[m RR: Correct hyphen in 'open-source'\n",
      "\u001b[33mdcffbc5\u001b[m\u001b[33m (\u001b[m\u001b[1;31morigin/main\u001b[m\u001b[33m, \u001b[m\u001b[1;31morigin/HEAD\u001b[m\u001b[33m, \u001b[m\u001b[1;32mmain\u001b[m\u001b[33m)\u001b[m Update information_session_agenda.md\n",
      "\u001b[33m841cca0\u001b[m Update information_session_agenda.md\n",
      "\u001b[33mc30f9c3\u001b[m Added VSIP introduction slides\n",
      "\u001b[33mcbf5fcc\u001b[m Delete 2024/project_slides/.gitkeep\n",
      "\u001b[33maad7b66\u001b[m Merge pull request #1 from sbryngelson/main\n",
      "\u001b[33m1b64ea5\u001b[m Update information_session_agenda.md\n",
      "\u001b[33madb2b7f\u001b[m Update information_session_agenda.md\n",
      "\u001b[33mb0f9827\u001b[m FL: Updated three slide links\n",
      "\u001b[33m0e769d2\u001b[m FL: added two more presentation\n",
      "\u001b[33m8a7ddf8\u001b[m FL: Updte trestle\n",
      "\u001b[33m992f802\u001b[m Update information_session_agenda.md\n",
      "\u001b[33mb9c8deb\u001b[m Update README.md\n",
      "\u001b[33ma9ba7b5\u001b[m Update information_session_agenda.md\n",
      "\u001b[33ma2c9156\u001b[m Update agenda for Summer 2024 session\n",
      "\u001b[33ma7b1b45\u001b[m Update information_session_agenda.md\n",
      "\u001b[33m7fe5e27\u001b[m FL: Upload 12 IBM projects with naming conversion\n",
      "\u001b[33m304bf98\u001b[m Create information_session_agenda.md\n",
      "\u001b[33mf018ed8\u001b[m Create .gitkeep\n",
      "\u001b[33m682ca09\u001b[m Initial commit\n"
     ]
    }
   ],
   "source": [
    "git log --remotes --oneline"
   ]
  },
  {
   "cell_type": "markdown",
   "id": "367f240f-5e78-4f12-8e36-873ad674c254",
   "metadata": {},
   "source": [
    "This is one process that just relies on Git (not any GitHub-specific features).  As such, it will work on GitHub, Bitbucket, etc.  It is described at https://docs.github.com/en/pull-requests/collaborating-with-pull-requests/working-with-forks/syncing-a-fork#syncing-a-fork-branch-from-the-command-line \n",
    "1. Pull \"main\" from upstream"
   ]
  },
  {
   "cell_type": "code",
   "execution_count": 27,
   "id": "9c603d6e-152f-4d6d-8562-52bdb2f92597",
   "metadata": {},
   "outputs": [
    {
     "name": "stdout",
     "output_type": "stream",
     "text": [
      "Switched to branch 'main'\n",
      "Your branch is up to date with 'origin/main'.\n"
     ]
    }
   ],
   "source": [
    "git checkout main"
   ]
  },
  {
   "cell_type": "code",
   "execution_count": 28,
   "id": "26b515a3-b1b0-42a9-802f-9c8421962fd8",
   "metadata": {
    "scrolled": true
   },
   "outputs": [
    {
     "name": "stdout",
     "output_type": "stream",
     "text": [
      "\u001b[33mhint: Pulling without specifying how to reconcile divergent branches is\u001b[m\n",
      "\u001b[33mhint: discouraged. You can squelch this message by running one of the following\u001b[m\n",
      "\u001b[33mhint: commands sometime before your next pull:\u001b[m\n",
      "\u001b[33mhint: \u001b[m\n",
      "\u001b[33mhint:   git config pull.rebase false  # merge (the default strategy)\u001b[m\n",
      "\u001b[33mhint:   git config pull.rebase true   # rebase\u001b[m\n",
      "\u001b[33mhint:   git config pull.ff only       # fast-forward only\u001b[m\n",
      "\u001b[33mhint: \u001b[m\n",
      "\u001b[33mhint: You can replace \"git config\" with \"git config --global\" to set a default\u001b[m\n",
      "\u001b[33mhint: preference for all repositories. You can also pass --rebase, --no-rebase,\u001b[m\n",
      "\u001b[33mhint: or --ff-only on the command line to override the configured default per\u001b[m\n",
      "\u001b[33mhint: invocation.\u001b[m\n",
      "From github.com:gt-ospo/summer-internship-program\n",
      " * branch            main       -> FETCH_HEAD\n",
      "Updating dcffbc5..5fedbcb\n",
      "Fast-forward\n",
      " README.md | 2 \u001b[32m+\u001b[m\u001b[31m-\u001b[m\n",
      " 1 file changed, 1 insertion(+), 1 deletion(-)\n"
     ]
    }
   ],
   "source": [
    "git pull upstream main"
   ]
  },
  {
   "cell_type": "code",
   "execution_count": 29,
   "id": "3b7918e2-a4f2-44c1-a7ae-258620afd2e0",
   "metadata": {},
   "outputs": [
    {
     "name": "stdout",
     "output_type": "stream",
     "text": [
      "\u001b[33m5fedbcb\u001b[m\u001b[33m (\u001b[m\u001b[1;36mHEAD -> \u001b[m\u001b[1;32mmain\u001b[m\u001b[33m, \u001b[m\u001b[1;31mupstream/main\u001b[m\u001b[33m)\u001b[m Merge pull request #2 from RonRahaman/module02-training\n",
      "\u001b[33ma2d0a7b\u001b[m\u001b[33m (\u001b[m\u001b[1;31morigin/module02-training\u001b[m\u001b[33m, \u001b[m\u001b[1;32mmodule02-training\u001b[m\u001b[33m)\u001b[m RR: Correct hyphen in 'open-source'\n",
      "\u001b[33mdcffbc5\u001b[m\u001b[33m (\u001b[m\u001b[1;31morigin/main\u001b[m\u001b[33m, \u001b[m\u001b[1;31morigin/HEAD\u001b[m\u001b[33m)\u001b[m Update information_session_agenda.md\n",
      "\u001b[33m841cca0\u001b[m Update information_session_agenda.md\n",
      "\u001b[33mc30f9c3\u001b[m Added VSIP introduction slides\n",
      "\u001b[33mcbf5fcc\u001b[m Delete 2024/project_slides/.gitkeep\n",
      "\u001b[33maad7b66\u001b[m Merge pull request #1 from sbryngelson/main\n",
      "\u001b[33m1b64ea5\u001b[m Update information_session_agenda.md\n",
      "\u001b[33madb2b7f\u001b[m Update information_session_agenda.md\n",
      "\u001b[33mb0f9827\u001b[m FL: Updated three slide links\n",
      "\u001b[33m0e769d2\u001b[m FL: added two more presentation\n",
      "\u001b[33m8a7ddf8\u001b[m FL: Updte trestle\n",
      "\u001b[33m992f802\u001b[m Update information_session_agenda.md\n",
      "\u001b[33mb9c8deb\u001b[m Update README.md\n",
      "\u001b[33ma9ba7b5\u001b[m Update information_session_agenda.md\n",
      "\u001b[33ma2c9156\u001b[m Update agenda for Summer 2024 session\n",
      "\u001b[33ma7b1b45\u001b[m Update information_session_agenda.md\n",
      "\u001b[33m7fe5e27\u001b[m FL: Upload 12 IBM projects with naming conversion\n",
      "\u001b[33m304bf98\u001b[m Create information_session_agenda.md\n",
      "\u001b[33mf018ed8\u001b[m Create .gitkeep\n",
      "\u001b[33m682ca09\u001b[m Initial commit\n"
     ]
    }
   ],
   "source": [
    "git log --oneline --remotes --branches"
   ]
  },
  {
   "cell_type": "markdown",
   "id": "b0ef4752-aa71-40e5-a4d5-bd3b656e78e0",
   "metadata": {},
   "source": [
    "2. Then push main to origin"
   ]
  },
  {
   "cell_type": "code",
   "execution_count": 30,
   "id": "e4aa8447-0213-4878-81a1-a9e0cd111965",
   "metadata": {},
   "outputs": [
    {
     "name": "stdout",
     "output_type": "stream",
     "text": [
      "Total 0 (delta 0), reused 0 (delta 0), pack-reused 0\n",
      "To github.com:RonRahaman/summer-internship-program.git\n",
      "   dcffbc5..5fedbcb  main -> main\n"
     ]
    }
   ],
   "source": [
    "git push origin main"
   ]
  },
  {
   "cell_type": "code",
   "execution_count": 31,
   "id": "f5180343-ba54-42ce-bc85-7c9dd78463f5",
   "metadata": {},
   "outputs": [
    {
     "name": "stdout",
     "output_type": "stream",
     "text": [
      "\u001b[33m5fedbcb\u001b[m\u001b[33m (\u001b[m\u001b[1;36mHEAD -> \u001b[m\u001b[1;32mmain\u001b[m\u001b[33m, \u001b[m\u001b[1;31mupstream/main\u001b[m\u001b[33m, \u001b[m\u001b[1;31morigin/main\u001b[m\u001b[33m, \u001b[m\u001b[1;31morigin/HEAD\u001b[m\u001b[33m)\u001b[m Merge pull request #2 from RonRahaman/module02-training\n",
      "\u001b[33ma2d0a7b\u001b[m\u001b[33m (\u001b[m\u001b[1;31morigin/module02-training\u001b[m\u001b[33m, \u001b[m\u001b[1;32mmodule02-training\u001b[m\u001b[33m)\u001b[m RR: Correct hyphen in 'open-source'\n",
      "\u001b[33mdcffbc5\u001b[m Update information_session_agenda.md\n",
      "\u001b[33m841cca0\u001b[m Update information_session_agenda.md\n",
      "\u001b[33mc30f9c3\u001b[m Added VSIP introduction slides\n",
      "\u001b[33mcbf5fcc\u001b[m Delete 2024/project_slides/.gitkeep\n",
      "\u001b[33maad7b66\u001b[m Merge pull request #1 from sbryngelson/main\n",
      "\u001b[33m1b64ea5\u001b[m Update information_session_agenda.md\n",
      "\u001b[33madb2b7f\u001b[m Update information_session_agenda.md\n",
      "\u001b[33mb0f9827\u001b[m FL: Updated three slide links\n",
      "\u001b[33m0e769d2\u001b[m FL: added two more presentation\n",
      "\u001b[33m8a7ddf8\u001b[m FL: Updte trestle\n",
      "\u001b[33m992f802\u001b[m Update information_session_agenda.md\n",
      "\u001b[33mb9c8deb\u001b[m Update README.md\n",
      "\u001b[33ma9ba7b5\u001b[m Update information_session_agenda.md\n",
      "\u001b[33ma2c9156\u001b[m Update agenda for Summer 2024 session\n",
      "\u001b[33ma7b1b45\u001b[m Update information_session_agenda.md\n",
      "\u001b[33m7fe5e27\u001b[m FL: Upload 12 IBM projects with naming conversion\n",
      "\u001b[33m304bf98\u001b[m Create information_session_agenda.md\n",
      "\u001b[33mf018ed8\u001b[m Create .gitkeep\n",
      "\u001b[33m682ca09\u001b[m Initial commit\n"
     ]
    }
   ],
   "source": [
    "git log --remotes --oneline --branches"
   ]
  },
  {
   "cell_type": "markdown",
   "id": "06c47693-a329-46bf-9000-92af47cd1ccf",
   "metadata": {},
   "source": [
    "GitHub additionally has a way to sync forks from the web UI:  https://docs.github.com/en/pull-requests/collaborating-with-pull-requests/working-with-forks/syncing-a-fork#syncing-a-fork-branch-from-the-web-ui "
   ]
  },
  {
   "cell_type": "code",
   "execution_count": null,
   "id": "350c7872-ea87-4801-8e08-07810982e02c",
   "metadata": {},
   "outputs": [],
   "source": []
  }
 ],
 "metadata": {
  "kernelspec": {
   "display_name": "Bash",
   "language": "bash",
   "name": "bash"
  },
  "language_info": {
   "codemirror_mode": "shell",
   "file_extension": ".sh",
   "mimetype": "text/x-sh",
   "name": "bash"
  }
 },
 "nbformat": 4,
 "nbformat_minor": 5
}
