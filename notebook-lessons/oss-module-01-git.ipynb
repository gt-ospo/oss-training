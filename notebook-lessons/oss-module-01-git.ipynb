{
 "cells": [
  {
   "cell_type": "markdown",
   "id": "3e3b7b24",
   "metadata": {
    "slideshow": {
     "slide_type": "slide"
    }
   },
   "source": [
    "# OSS Module 01 - Git Basics\n",
    "\n",
    "<img src=\"../img/icon-git.png\" width=\"200\" />"
   ]
  },
  {
   "cell_type": "markdown",
   "id": "4f6cff3a-b7f7-46c6-92d9-d1173907b93d",
   "metadata": {},
   "source": [
    "# Contents\n",
    "- [1: About this training module](#1:-About-this-training-module)\n",
    "- [2: Git and GitHub Setup](#2:-Git-and-GitHub-setup)\n",
    "- [3: About Git](#3:-About-Git)\n",
    "- [4: Working with a Git repo](#4:-Working-with-a-Git-repo)\n",
    "  * [4.1: Creating a repo and committing files](#4.1:-Creating-a-repo-and-committing-files)\n",
    "  * [4.2: Working with remotes](#4.2:-Working-with-remotes)\n",
    "  * [4.3: Downloading a repo](#4.3:-Downloading-a-repo)\n",
    "  * [4.4: Adding more changes](#4.4:-Adding-more-changes)\n",
    "  * [4.5: Getting new changes from the remote](#4.5:-Getting-new-changes-from-the-remote)\n",
    "- [5: Branches](#5:-Branches)\n",
    "  * [5.1: About Git branches](#5.1:-About-Git-branches)\n",
    "  * [5.2: Checking-out changes](#5.2:-Checking-out-changes)\n",
    "  * [5.3: Using topic branches](#5.3:-Using-topic-branches)\n",
    "  * [5.4: Merging branches](#5.4:-Merging-branches)"
   ]
  },
  {
   "cell_type": "markdown",
   "id": "a97fdf6d-eae0-4387-ba21-ad543103c5a3",
   "metadata": {},
   "source": [
    "# 1: About this training module\n",
    "\n",
    "Welcome to the GT OSPO VSIP!  This training module will introduce you to concepts of Git, especially related to branching and merging.  Understanding Git branching/merging will be essential to your success in as code contributor.  \n",
    "\n",
    "### How should I use this training module?\n",
    "\n",
    "You'll get the most out of this module if you follow-along interactively.  \n",
    "\n",
    "You can download this Jupyter notebook and work directly inside it.  Make sure you have the `jupyter`, `jupyterlab`, and `bash_kernel` Python modules installed.  **Don't forget the second step with `python -m bash_kernel.install`!**\n",
    "\n",
    "``` Console\n",
    "$ pip install jupyter jupyterlab bash_kernel\n",
    "$ python -m bash_kernel.install\n",
    "```\n",
    "\n",
    "If you are not installing Jupyter or `bash_kernel`, you can also follow-along in any standalone terminal.\n",
    "\n",
    "### Why aren't we learning to use the Git GUI in (VS Code, PyCharm, ...)?\n",
    "\n",
    "Good question!  We love our IDEs, we use Git in our IDEs all the time, and so should you.  **But** it really helps to know how to precisely use Git in the command line, especially if your IDE isn't doing exactly what you want.  Trust us, it can really help you out of a jam.  \n",
    "\n",
    "Another issue is that not everyone uses the same IDE.  All the terms and concepts you learn here will translate directly to whatever IDE you use."
   ]
  },
  {
   "cell_type": "markdown",
   "id": "591b1a32",
   "metadata": {
    "slideshow": {
     "slide_type": "slide"
    }
   },
   "source": [
    "# 2: Git and GitHub setup\n",
    "\n",
    "<img src=\"../img/icon-gears.png\" width=\"200\" />"
   ]
  },
  {
   "cell_type": "markdown",
   "id": "6195560a-581c-4e9e-b21a-0b47639a1911",
   "metadata": {},
   "source": [
    "## Installing Git\n",
    "\n",
    "GitHub has excellent instructions for installing Git on macOS, Windows, and Linux:  https://github.com/git-guides/install-git\n",
    "\n",
    "If you are on Windows, be sure include the 'Git Bash' terminal during the installation (it should be selected by default).  You can use Git Bash to follow-along with this tutorial.  If you are on macOS or Linux, you can use any terminal to follow-along.\n",
    "\n",
    "## First-time Git Setup\n",
    "\n",
    "After installing Git, you should set your username an email.  These will be used to identify changes that you've made to a Git repo.  In the terminal run `git config` with your own name email:\n",
    "\n",
    "```\n",
    "git config --global user.name 'George Burdell'\n",
    "git config --global user.email 'gburdell@gmail.com'\n",
    "```\n",
    "\n",
    "The `user.name` is arbitrary and is only for the benefit of other humans.  However, the `user.email` is quite important when you're working with GitHub, GitLab, or another service.  This email is used to link your GitHub account to any commits in a Git repo.  It's not a bad idea to use a `user.email` that you'll have access to forever, instead of your GT email.  This will ensure that you can always keep your GitHub account linked to commits in Git repos.   \n",
    "\n",
    "For more first-time setup options, see here:  https://git-scm.com/book/en/v2/Getting-Started-First-Time-Git-Setup\n",
    "\n",
    "## Registering for GitHub\n",
    "\n",
    "If you don't already have a GitHub account, go to https://github.com/ and create one.  Again, it's not a bad idea to use an email address that you'll have access to forever, instead of your GT email.  \n",
    "\n",
    "## Setting up authentication with GitHub\n",
    "\n",
    "When using Git, there are several method to authenticate with GitHub.  These days, username/password is *not* one of those methods!  The simplest method is via SSH.  See the GitHub docs section \"Connecting to GitHub with SSH\" (https://docs.github.com/en/authentication/connecting-to-github-with-ssh), which has instructions for every operating system.  \n",
    "\n"
   ]
  },
  {
   "cell_type": "markdown",
   "id": "85c3be63",
   "metadata": {
    "slideshow": {
     "slide_type": "slide"
    }
   },
   "source": [
    "# 3: About Git\n",
    "\n",
    "<img src=\"../img/icon-spill.png\" width=\"200\" />\n"
   ]
  },
  {
   "cell_type": "markdown",
   "id": "6885ae85-44bb-4b0e-ae9c-f094f18e6493",
   "metadata": {},
   "source": [
    "## What is Git?\n",
    "\n",
    "Git is the most widely used **version control system (VCS)** today.  Any VCS uses a database to record changes to a set of files over time, such as the source files in a software project.  The changes over time are called the history **history**.  Using the database, you can retrieve specific **versions** of files from any point in history.\n",
    "\n",
    "## Why is Git?\n",
    "\n",
    "<img src=\"../img/it-worked-yesterday.png\" width=\"200\" />\n",
    "\n",
    "One of Git's biggest advantages is to make **collaboration** easier.  By using a branching workflow (which we'll discuss below), multiple developers can work independently on the same codebase.  \n",
    "\n",
    "Another advantage of any VCS is the ability to **respond to bugs**.  If your app is in production, and a bug is discovered, then you can revert the app to a previous stable while you investigate the cause.  The VCS also helps you discover which **specific change and developer** instroduced the bug.  The intent is not to blame or shame anyone.  Rather, the idea is that the developer who introduced the bug is the one who is most likely to know that part of the codebase and respond to that bug quickly."
   ]
  },
  {
   "cell_type": "markdown",
   "id": "f92893e1",
   "metadata": {
    "slideshow": {
     "slide_type": "subslide"
    }
   },
   "source": [
    "## Parts of a Git Project Directory\n",
    "\n",
    "The contents of a Git repo are stored on your computer as normal files in a normal directory.  In Git terminology, these files are the **working tree**.  You can edit these files freely with your usual text editors and IDEs.  \n",
    "\n",
    "On your computer, changes to the files are stored in the **local repository** (or local **database**).  Soon, we will learn how to store (or **commit**) new versions of the files; and how to retrieve (or **checkout**) previous versions of the files.  \n",
    "\n",
    "A small project directory is shown below. \n",
    "* The database and metadata are stored in the hidden `.git/` directory.  You can treat this as a black box, and your only interaction with the database and metadata should be via `git` commands.\n",
    "* `my_program.py` and `README.md` are files you are actively working on.  You definitely want to record these in the local repo.\n",
    "* `__pycache__` contains intermediate bytecode from running your Python program.  You probably do *not* want to record these in the local repo...\n",
    "\n",
    "``` Console\n",
    "~/my_git_project$ ls -la\n",
    "total 95\n",
    "drwxr-xr-x  4 gburdell  staff   6 Jan 25 12:33 .\n",
    "drwx--x--x 43 gburdell  staff  97 Jan 25 12:33 ..\n",
    "drwxr-xr-x  7 gburdell  staff  10 Jan 25 12:33 .git\n",
    "-rw-r--r--  1 gburdell  staff  69 Jan 25 12:32 my_program.py\n",
    "drwxr-xr-x  2 gburdell  staff   3 Jan 25 12:33 __pycache__\n",
    "-rw-r--r--  1 gburdell  staff  51 Jan 25 12:33 README.md\n",
    "```"
   ]
  },
  {
   "cell_type": "markdown",
   "id": "e7702a13",
   "metadata": {
    "slideshow": {
     "slide_type": "subslide"
    }
   },
   "source": [
    "## Tracked vs. Untracked Files"
   ]
  },
  {
   "cell_type": "markdown",
   "id": "28ade16f",
   "metadata": {},
   "source": [
    "Git does not automatically add files from the working tree to the repo.  Instead, the user must explicitly specify which files are stored in the repo (**tracked**) and which are not (**untracked**).  It's important to consider which files to *not* track.  \n",
    "\n",
    "In a Python project, you should not track byte code (`*.pyc` and `*.pyo` in `__pycache__` directories) since they will be automatically regenerated whenever someone else runs it with a different operating system or Python version.  Tracking them will just take up unnecessary space in the database. \n",
    "\n",
    "For C/C++ and other compiled languages, you should not track build artifacts (`*.o` files, libraries, executables) for a simlar reason.  These artifacts will usually not work on a different operating system."
   ]
  },
  {
   "cell_type": "markdown",
   "id": "968cbaf4-5c6c-4f9b-887e-91a2b087e886",
   "metadata": {
    "slideshow": {
     "slide_type": "slide"
    }
   },
   "source": [
    "# 4: Working with a Git repo\n",
    "\n",
    "\n",
    "<img src=\"../img/icon-plates.png\" width=\"200\" />"
   ]
  },
  {
   "cell_type": "markdown",
   "id": "83f29ae7-5875-49d1-92c3-0e8d6d728ec2",
   "metadata": {},
   "source": [
    "In this section, we will create a local repo, add files, and work remote repo on GitHub"
   ]
  },
  {
   "cell_type": "markdown",
   "id": "25dee2c5",
   "metadata": {},
   "source": [
    "## 4.1: Creating a repo and committing files"
   ]
  },
  {
   "cell_type": "markdown",
   "id": "8cde607d",
   "metadata": {
    "slideshow": {
     "slide_type": "subslide"
    }
   },
   "source": [
    "### `git init`: Creating a local repo\n",
    "\n",
    "The `git init` command creates a local repo in the current directory.  Let's create a new directory, `~/git-workflow` and initialize a repo inside it.  \n",
    "\n",
    "(You can use a directory with a different name and location, if you like.)"
   ]
  },
  {
   "cell_type": "code",
   "execution_count": 1,
   "id": "aa02da5d",
   "metadata": {},
   "outputs": [
    {
     "name": "stdout",
     "output_type": "stream",
     "text": [
      "Initialized empty Git repository in /Users/gburdell/git-workflow/.git/\n"
     ]
    }
   ],
   "source": [
    "mkdir ~/git-workflow\n",
    "cd ~/git-workflow\n",
    "git init"
   ]
  },
  {
   "cell_type": "markdown",
   "id": "710266bc",
   "metadata": {},
   "source": [
    "You can see the `.git/` directory was created for the database and metadata.  "
   ]
  },
  {
   "cell_type": "code",
   "execution_count": 2,
   "id": "fed0e770",
   "metadata": {},
   "outputs": [
    {
     "name": "stdout",
     "output_type": "stream",
     "text": [
      "total 0\n",
      "drwxr-xr-x    3 gburdell  staff    96B May 10 16:05 \u001b[1m\u001b[36m.\u001b[39;49m\u001b[0m\n",
      "drwxr-xr-x+ 193 gburdell  staff   6.0K May 10 16:05 \u001b[1m\u001b[36m..\u001b[39;49m\u001b[0m\n",
      "drwxr-xr-x    9 gburdell  staff   288B May 10 16:05 \u001b[1m\u001b[36m.git\u001b[39;49m\u001b[0m\n"
     ]
    }
   ],
   "source": [
    "ls -lha"
   ]
  },
  {
   "cell_type": "markdown",
   "id": "5139b9d4",
   "metadata": {
    "slideshow": {
     "slide_type": "subslide"
    }
   },
   "source": [
    "### `git status`: Show the state of the working tree\n",
    "\n",
    "`git status` shows the state of tracked files, untracked files, and the database. Right now, the working tree is empty, and the database is empty, so there's not much to report.  \n",
    "\n",
    "We already have a **branch** called `main`, which was created when the repo was initialized.  We'll cover branches in detail soon.  For now, you can think of them like branches of a family tree that describe your project's history.  "
   ]
  },
  {
   "cell_type": "code",
   "execution_count": 3,
   "id": "b80037e2",
   "metadata": {},
   "outputs": [
    {
     "name": "stdout",
     "output_type": "stream",
     "text": [
      "On branch main\n",
      "\n",
      "No commits yet\n",
      "\n",
      "nothing to commit (create/copy files and use \"git add\" to track)\n"
     ]
    }
   ],
   "source": [
    "git status"
   ]
  },
  {
   "cell_type": "markdown",
   "id": "d69a957b",
   "metadata": {
    "slideshow": {
     "slide_type": "subslide"
    }
   },
   "source": [
    "### Creating new files\n",
    "\n",
    "To create and edit files in your working tree, you can use any text editor.  In `~/git_workflow`, let's create two files.\n",
    "\n",
    "* First, create a file named `README.md` file with these contents.  You might notice a mistake, but don't correct it right now! :)"
   ]
  },
  {
   "cell_type": "markdown",
   "id": "95fac4ed",
   "metadata": {
    "slideshow": {
     "slide_type": "-"
    }
   },
   "source": [
    "``` text\n",
    "# Git Workflow\n",
    "\n",
    "This is an example repo for the GT OSPO VSIP Spring 2024 Program.  \n",
    "```"
   ]
  },
  {
   "cell_type": "markdown",
   "id": "9687a29f",
   "metadata": {
    "slideshow": {
     "slide_type": "-"
    }
   },
   "source": [
    "* Then, let's create a Python source file named `my_abs.py` with these contents. We will be making changes to `my_abs.py` throughout this demo.  "
   ]
  },
  {
   "cell_type": "markdown",
   "id": "501744b5",
   "metadata": {},
   "source": [
    "``` python\n",
    "def my_abs(x):\n",
    "    if x < 0:\n",
    "        return -x\n",
    "    else:\n",
    "        return x\n",
    "```"
   ]
  },
  {
   "cell_type": "markdown",
   "id": "9ac355dd",
   "metadata": {},
   "source": [
    "### Untracked files\n",
    "\n",
    "`git status` reports that the new files are **untracked**.  Recall that untracked files are not recorded in repo's database, and that Git does not automatically track new files.  Git helpfully suggests that we should track them with the `git add` command, and we'll do that soon.  But first let's discuss the possible **states** for files in your working tree.  Knowing these states can help you troubleshoot many issues when you're working with your repo. "
   ]
  },
  {
   "cell_type": "code",
   "execution_count": 5,
   "id": "872926e6",
   "metadata": {},
   "outputs": [
    {
     "name": "stdout",
     "output_type": "stream",
     "text": [
      "On branch main\n",
      "\n",
      "No commits yet\n",
      "\n",
      "Untracked files:\n",
      "  (use \"git add <file>...\" to include in what will be committed)\n",
      "\t\u001b[31mREADME.md\u001b[m\n",
      "\t\u001b[31mmy_abs.py\u001b[m\n",
      "\n",
      "nothing added to commit but untracked files present (use \"git add\" to track)\n"
     ]
    }
   ],
   "source": [
    "git status"
   ]
  },
  {
   "cell_type": "markdown",
   "id": "89702ef6",
   "metadata": {},
   "source": [
    "### The state of files in a working tree\n",
    "\n",
    "Files in the working tree are either tracked or untracked:\n",
    "\n",
    "* **Untracked**: No versions of the file are stored in the repo's database\n",
    "* **Tracked**:  One or more versions of the file are in the database\n",
    "\n",
    "Additionally, changes in tracked files are always in one of three states:\n",
    "\n",
    "* **Unmodified**:  The file in the working is tree are up-to-date with the database.  Git sometimes refers to these changes as \"up-to-date\".  \n",
    "* **Modfied**:  The file has changes that have not yet been stored in the database.  Furthermore, the user hasn't specified that these changes will be stored in the next database update.  \n",
    "* **Staged**: The file's changes that will be stored in the next database update.  Git sometimes refers to these as \"to be committed\".  \n",
    "\n",
    "\n",
    "<img src=\"../img/lifecycle.png\" width=\"800\" />\n",
    "\n",
    "\n",
    "(Image credit:  Scott Chacon and Ben Straub.  Pro Git, [Section 2.2](https://git-scm.com/book/en/v2/Git-Basics-Recording-Changes-to-the-Repository))"
   ]
  },
  {
   "cell_type": "markdown",
   "id": "2b8e6717",
   "metadata": {},
   "source": [
    "### `git add`: Stage new changes\n",
    "\n",
    "\n",
    "\n",
    "In our working copy of `git_workflow`, we have two untracked files: `README.md` and `my_abs.py`.  To record their changes, we need two steps (as shown in the [diagram above](#The-state-of-files-in-a-working-tree)):\n",
    "\n",
    "1. **Add the files:**  This changes the files' states from \"Untracked\" to \"Staged\".  At this point, the changes are *ready* to be stored in the database but *are not yet stored*.  \n",
    "2. **Commit**:  This changes their state from \"Staged\" to \"Unmodified\".  At this point, the changes have actually been stored in the database.\n",
    "\n",
    "To accomplish Step 1 (Untracked ➞ Staged), we use `git add`.  Its usage is:\n",
    "\n",
    "```\n",
    "git add <file1> [<file2> ...]\n",
    "```"
   ]
  },
  {
   "cell_type": "code",
   "execution_count": 6,
   "id": "859b6869",
   "metadata": {},
   "outputs": [],
   "source": [
    "git add README.md my_abs.py"
   ]
  },
  {
   "cell_type": "markdown",
   "id": "ff64cf5f",
   "metadata": {},
   "source": [
    "Now `git status` shows the files have changes that are \"to be committed\".  This means the changes are staged for the next database update.  But remember that the database has **not** actually been updated."
   ]
  },
  {
   "cell_type": "code",
   "execution_count": 7,
   "id": "090c4e57",
   "metadata": {},
   "outputs": [
    {
     "name": "stdout",
     "output_type": "stream",
     "text": [
      "On branch main\n",
      "\n",
      "No commits yet\n",
      "\n",
      "Changes to be committed:\n",
      "  (use \"git rm --cached <file>...\" to unstage)\n",
      "\t\u001b[32mnew file:   README.md\u001b[m\n",
      "\t\u001b[32mnew file:   my_abs.py\u001b[m\n",
      "\n"
     ]
    }
   ],
   "source": [
    "git status"
   ]
  },
  {
   "cell_type": "markdown",
   "id": "0c333292",
   "metadata": {},
   "source": [
    "### Modifying a staged file\n",
    "\n",
    "What happens when you've staged a file, but before you commit it, you realize you need to fix something?  For example, in `README.md`, we made a typo.  We wrote \"Spring 2024\" instead of \"Summer 2024\".  \n",
    "\n",
    "Let's correct `README.md` with our text editor, and then look at the `git status`:"
   ]
  },
  {
   "cell_type": "code",
   "execution_count": 9,
   "id": "b756cc40",
   "metadata": {},
   "outputs": [
    {
     "name": "stdout",
     "output_type": "stream",
     "text": [
      "On branch main\n",
      "\n",
      "No commits yet\n",
      "\n",
      "Changes to be committed:\n",
      "  (use \"git rm --cached <file>...\" to unstage)\n",
      "\t\u001b[32mnew file:   README.md\u001b[m\n",
      "\t\u001b[32mnew file:   my_abs.py\u001b[m\n",
      "\n",
      "Changes not staged for commit:\n",
      "  (use \"git add <file>...\" to update what will be committed)\n",
      "  (use \"git restore <file>...\" to discard changes in working directory)\n",
      "\t\u001b[31mmodified:   README.md\u001b[m\n",
      "\n"
     ]
    }
   ],
   "source": [
    "git status"
   ]
  },
  {
   "cell_type": "markdown",
   "id": "2c9da184",
   "metadata": {},
   "source": [
    "Git tells us:\n",
    "* `README.md` and `my_abs.py` have changes that are staged (\"to be committed\")\n",
    "* `README.md` also has changes that are not staged\n",
    "\n",
    "How can one file have both staged and unstaged changes?  The reason is that `git add` stages the state of the file **at the exact moment** you run `git add`.  So if you run `git add`, and make additional changes afterwards (like changing \"Spring\" to \"Summer\"), then those additional changes are not automatically staged.  "
   ]
  },
  {
   "cell_type": "markdown",
   "id": "a37ddf49",
   "metadata": {},
   "source": [
    "### Staging new content (again)\n",
    "\n",
    "To fix this, we'll run `git add` again to stage the new changes (\"Spring\" to \"Summer\").  You can see that Git suggests this, too, when it says: 'use \"git add <file>...\" to update what will be committed'"
   ]
  },
  {
   "cell_type": "code",
   "execution_count": 10,
   "id": "5828a35b",
   "metadata": {},
   "outputs": [],
   "source": [
    "git add README.md"
   ]
  },
  {
   "cell_type": "markdown",
   "id": "726333c6",
   "metadata": {},
   "source": [
    "Now we see that all the changes in `README.md` have been staged, since there are no \"Changes not staged for commit\" anymore.  "
   ]
  },
  {
   "cell_type": "code",
   "execution_count": 11,
   "id": "466532d7",
   "metadata": {},
   "outputs": [
    {
     "name": "stdout",
     "output_type": "stream",
     "text": [
      "On branch main\n",
      "\n",
      "No commits yet\n",
      "\n",
      "Changes to be committed:\n",
      "  (use \"git rm --cached <file>...\" to unstage)\n",
      "\t\u001b[32mnew file:   README.md\u001b[m\n",
      "\t\u001b[32mnew file:   my_abs.py\u001b[m\n",
      "\n"
     ]
    }
   ],
   "source": [
    "git status"
   ]
  },
  {
   "cell_type": "markdown",
   "id": "3353da43",
   "metadata": {},
   "source": [
    "### `git commit`: Updating the database\n",
    "\n",
    "Finally, we'll use `git commit` to record the previously-staged changes to the database.  \n",
    "\n",
    "You can use the `-m` option to specify a **commit message** on the command line.  This is a short message that lets other humans know what changes you've made.  Many projects have conventions about what info should go into a commit message.  Ask your project manager for details.  \n",
    "\n",
    "(If you do not use `-m`, a text editor will pop up and prompt you to enter a message.)"
   ]
  },
  {
   "cell_type": "code",
   "execution_count": 12,
   "id": "056a8e5f",
   "metadata": {},
   "outputs": [
    {
     "name": "stdout",
     "output_type": "stream",
     "text": [
      "[main (root-commit) 0565d47] First commit of my_abs (no try/except yet)\n",
      " 2 files changed, 10 insertions(+)\n",
      " create mode 100644 README.md\n",
      " create mode 100644 my_abs.py\n"
     ]
    }
   ],
   "source": [
    "git commit -m \"First commit of my_abs (no try/except yet)\""
   ]
  },
  {
   "cell_type": "markdown",
   "id": "9edf34d9",
   "metadata": {},
   "source": [
    "### `git log`:  Showing the repo's history\n",
    "\n",
    "Now that we actually have information in our repo's database, we can use `git log` to show the history.  `git log` has many options to show more or less information about the history.  You can run `git help log` to see all the available options."
   ]
  },
  {
   "cell_type": "code",
   "execution_count": 13,
   "id": "a9de7a78",
   "metadata": {},
   "outputs": [
    {
     "name": "stdout",
     "output_type": "stream",
     "text": [
      "\u001b[33mcommit 0565d4790146c2efaa59041453e7c7c09baa3cc1\u001b[m\u001b[33m (\u001b[m\u001b[1;36mHEAD -> \u001b[m\u001b[1;32mmain\u001b[m\u001b[33m)\u001b[m\n",
      "Author: George Burdell <gburdell@gmail.com>\n",
      "Date:   Fri May 10 16:07:41 2024 -0500\n",
      "\n",
      "    First commit of my_abs (no try/except yet)\n"
     ]
    }
   ],
   "source": [
    "git log"
   ]
  },
  {
   "cell_type": "markdown",
   "id": "42b77580",
   "metadata": {},
   "source": [
    "## 4.2: Working with remotes"
   ]
  },
  {
   "cell_type": "markdown",
   "id": "ef522de3-8816-44f6-833a-109292934f67",
   "metadata": {},
   "source": [
    "Up to this point, we've only made changes to the **local** repo on our computer.  We haven't touched GitHub at all.  Now, we are going to create a **remote** repo on GitHub and upload our local repo to it."
   ]
  },
  {
   "cell_type": "markdown",
   "id": "83cbda43-3cc4-4f20-98ca-f059918ed4eb",
   "metadata": {},
   "source": [
    "### Creating a remote repo\n",
    "\n",
    "From the front page of [GitHub](https://github.com), you can create a new repo by clicking on the the \"+\" button on the top menu bar.  You can also go directly to https://github.com/new"
   ]
  },
  {
   "cell_type": "markdown",
   "id": "c615be0f",
   "metadata": {},
   "source": [
    "<img src=\"../img/working-with-remote-01.png\" width=\"500\" />"
   ]
  },
  {
   "cell_type": "markdown",
   "id": "ac850852-4cdf-4944-9a77-557fe8e0f043",
   "metadata": {},
   "source": [
    "You should now see the \"Create a new repository\" page.  Since we are uploading an existing repository (instead of creating a new one), we'll only need a few options.\n",
    "\n",
    "* **Repository template**:  GitHub has starter templates (with directories and some boilerplate code) for common types of projects.  We'll select \"No template\".\n",
    "* **Owner**:  The repo's owner can be an individual account or an organization (a group of accounts).  A GitHub organization is a powerful tool for collaborating and managing permissions, and more likely than not, you'll be working in an organization for your VSIP project.  For this tutorial, let's use your individual GitHub account.\n",
    "* **Repository name**: This will be the last part of the repo's URL.  When someone clones your repo, it will also be the default name for the project directory.  Let's give it the same name as your existing project directory.\n",
    "* **Visibility**: You can make your repo either Public or Private, whichever you prefer\n",
    "* **Initialize this repository** and below:  Since we are uploading an existing repo, we should not create a `README`, `.gitignore`, or license.\n",
    "\n",
    "When you're finished, click the \"Create repository\" button"
   ]
  },
  {
   "cell_type": "markdown",
   "id": "1ef02fe7",
   "metadata": {},
   "source": [
    "<img src=\"../img/working-with-remote-02.png\" width=\"500\" />"
   ]
  },
  {
   "cell_type": "markdown",
   "id": "6d6e1a09-7c52-4642-9c16-aa72a4c9c8b9",
   "metadata": {},
   "source": [
    "You will now be taken to your repo's webpage, and you should see the following info.  We're going to focus on the section \"...or push an existing repo from the command line.\"  In particular, we will focus on the `git remote add` command and the `git push` command. \n",
    "\n",
    "(*The `git branch -M main` command is intended for legacy Git repos that would like to change their default branch name.  Historically, Git's default branch name was \"master\".  Starting around 2020, the Git community began efforts to change this naming convention to \"main\".  This was widely embraced by stakeholders in the community, such as [Git](https://lore.kernel.org/git/pull.656.v4.git.1593009996.gitgitgadget@gmail.com/) itself, [GitHub](https://github.blog/changelog/2020-10-01-the-default-branch-for-newly-created-repositories-is-now-main/), [GitLab](https://about.gitlab.com/blog/2021/03/10/new-git-default-branch-name/), and [BitBucket](https://bitbucket.org/blog/moving-away-from-master-as-the-default-name-for-branches-in-git).  Today, in recent versions of Git, the default branch name is \"main\", so you will not need to explicitly change the default with `git branch -M main`*)"
   ]
  },
  {
   "cell_type": "markdown",
   "id": "002a62ad",
   "metadata": {},
   "source": [
    "<img src=\"../img/working-with-remote-03.png\" width=\"600\" />"
   ]
  },
  {
   "cell_type": "markdown",
   "id": "28c75abd-af4e-4f11-ae33-829373b3edff",
   "metadata": {},
   "source": [
    "### `git remote`:  Add and manage remotes\n",
    "\n",
    "The `git remote add` command lets you link your local repo to a remote repo.  The syntax is:\n",
    "```\n",
    "git remote add <name> <url>\n",
    "```\n",
    "The `<url>` is the URL of your repo on GitHub.  The `<name>` is a shorter identifier for that URL, which makes life easier for humans.  By convention, humans use \"origin\" as the name for the default remote.  When you are collaborating with a team and have multiple remotes (which is quite common!), there are naming conventions for other remotes (such as \"upstream\").\n",
    "\n",
    "Here, we only have one remote, so we name it \"origin\".  Make sure you use the URL from your own GitHub repo!"
   ]
  },
  {
   "cell_type": "code",
   "execution_count": 14,
   "id": "2bc4c813",
   "metadata": {},
   "outputs": [],
   "source": [
    "git remote add origin git@github.com:GeorgeBurdell/git-workflow.git"
   ]
  },
  {
   "cell_type": "markdown",
   "id": "2f329d37-c08e-4339-a8ec-87cbc05ac532",
   "metadata": {},
   "source": [
    "Now you can use the `git remote -v` command to see which remotes are defined.  You can see that this remote is setup for both fetching (downloading) and pushing (uploading)."
   ]
  },
  {
   "cell_type": "code",
   "execution_count": 15,
   "id": "18949389",
   "metadata": {},
   "outputs": [
    {
     "name": "stdout",
     "output_type": "stream",
     "text": [
      "origin\tgit@github.com:GeorgeBurdell/git-workflow.git (fetch)\n",
      "origin\tgit@github.com:GeorgeBurdell/git-workflow.git (push)\n"
     ]
    }
   ],
   "source": [
    "git remote -v"
   ]
  },
  {
   "cell_type": "markdown",
   "id": "e60f7f88-8928-415a-a7cb-13b74b27a18b",
   "metadata": {},
   "source": [
    "### `git push`: Upload to the remote repo\n",
    "\n",
    "The `git push` command is used to upload changes from your local repo to a defined remote repo.  The synax is:\n",
    "\n",
    "```\n",
    "git push <remote> <branch>\n",
    "```\n",
    "\n",
    "A useful first-time option is `-u`.  It sets `<remote>` as the default remote for `<branch>`.  We'll use that below.  Th effect is that, in subsequent pushes, we can use `git push` without any extra arguments to push `main` to `origin`"
   ]
  },
  {
   "cell_type": "code",
   "execution_count": 17,
   "id": "16dcaa55",
   "metadata": {},
   "outputs": [
    {
     "name": "stdout",
     "output_type": "stream",
     "text": [
      "Enumerating objects: 4, done.\n",
      "Counting objects: 100% (4/4), done.\n",
      "Delta compression using up to 12 threads\n",
      "Compressing objects: 100% (4/4), done.\n",
      "Writing objects: 100% (4/4), 408 bytes | 408.00 KiB/s, done.\n",
      "Total 4 (delta 0), reused 0 (delta 0), pack-reused 0\n",
      "To github.com:GeorgeBurdell/git-workflow.git\n",
      " * [new branch]      main -> main\n",
      "Branch 'main' set up to track remote branch 'main' from 'origin'.\n"
     ]
    }
   ],
   "source": [
    "git push -u origin main"
   ]
  },
  {
   "cell_type": "markdown",
   "id": "c1219df9-3e44-4899-9208-aa2075ef509f",
   "metadata": {},
   "source": [
    "### Back to GitHub\n",
    "\n",
    "Now you can go back to your repo's webpage on GitHub and see your repo's contents!  You might need to click the refresh button in your browser to see the updates.  "
   ]
  },
  {
   "cell_type": "markdown",
   "id": "e9685405",
   "metadata": {},
   "source": [
    "## 4.3: Downloading a repo"
   ]
  },
  {
   "cell_type": "markdown",
   "id": "5e924626-b07f-4cfc-9ce6-accb544ee7ba",
   "metadata": {},
   "source": [
    "### `git clone`:  Download a repo\n",
    "\n",
    "Now that your GitHub repo is populated, let's try downloading (or **cloning**) it somewhere else.  It's common to clone your repo on multiple computers depending on where you're working (like your laptop, a remote server, etc.).  For this demo, we'll just create another directory in `~/somewhere-else`\n",
    "\n",
    "(You can use a different name or location, if you like)"
   ]
  },
  {
   "cell_type": "code",
   "execution_count": 18,
   "id": "37f2d5fb",
   "metadata": {},
   "outputs": [],
   "source": [
    "mkdir ~/somewhere-else\n",
    "cd ~/somewhere-else"
   ]
  },
  {
   "cell_type": "markdown",
   "id": "f8df0782-4fa6-4e81-9d99-8cd752cb9da7",
   "metadata": {},
   "source": [
    "Now we can use the `git clone` command to downlaod the repo.  The syntax is:\n",
    "\n",
    "```\n",
    "git clone <url>\n",
    "```\n",
    "\n",
    "The URL is the same one you used with `git remote add`.  This will create a working copy of the local repo in a new directory.  The directory's name is the last part of the URL.  Afterwards,  we can enter the new working copy and see that our files are present.  We can also verify that our repo's history is present."
   ]
  },
  {
   "cell_type": "code",
   "execution_count": 19,
   "id": "6169ac49",
   "metadata": {},
   "outputs": [
    {
     "name": "stdout",
     "output_type": "stream",
     "text": [
      "Cloning into 'git-workflow'...\n",
      "remote: Enumerating objects: 4, done.\u001b[K\n",
      "remote: Counting objects: 100% (4/4), done.\u001b[K\n",
      "remote: Compressing objects: 100% (4/4), done.\u001b[K\n",
      "remote: Total 4 (delta 0), reused 4 (delta 0), pack-reused 0\u001b[K\n",
      "Receiving objects: 100% (4/4), done.\n"
     ]
    }
   ],
   "source": [
    "git clone git@github.com:GeorgeBurdell/git-workflow.git"
   ]
  },
  {
   "cell_type": "code",
   "execution_count": 20,
   "id": "148cf943",
   "metadata": {},
   "outputs": [],
   "source": [
    "cd ~/somewhere-else/git-workflow"
   ]
  },
  {
   "cell_type": "code",
   "execution_count": 21,
   "id": "d710c2e0",
   "metadata": {},
   "outputs": [
    {
     "name": "stdout",
     "output_type": "stream",
     "text": [
      "total 16\n",
      "drwxr-xr-x   5 gburdell  staff  160 May 10 16:09 \u001b[1m\u001b[36m.\u001b[39;49m\u001b[0m\n",
      "drwxr-xr-x   3 gburdell  staff   96 May 10 16:09 \u001b[1m\u001b[36m..\u001b[39;49m\u001b[0m\n",
      "drwxr-xr-x  12 gburdell  staff  384 May 10 16:09 \u001b[1m\u001b[36m.git\u001b[39;49m\u001b[0m\n",
      "-rw-r--r--   1 gburdell  staff   85 May 10 16:09 README.md\n",
      "-rw-r--r--   1 gburdell  staff   75 May 10 16:09 my_abs.py\n"
     ]
    }
   ],
   "source": [
    "ls -la"
   ]
  },
  {
   "cell_type": "code",
   "execution_count": 22,
   "id": "76b7d8be",
   "metadata": {},
   "outputs": [
    {
     "name": "stdout",
     "output_type": "stream",
     "text": [
      "\u001b[33mcommit 0565d4790146c2efaa59041453e7c7c09baa3cc1\u001b[m\u001b[33m (\u001b[m\u001b[1;36mHEAD -> \u001b[m\u001b[1;32mmain\u001b[m\u001b[33m, \u001b[m\u001b[1;31morigin/main\u001b[m\u001b[33m, \u001b[m\u001b[1;31morigin/HEAD\u001b[m\u001b[33m)\u001b[m\n",
      "Author: George Burdell <gburdell@gmail.com>\n",
      "Date:   Fri May 10 16:07:41 2024 -0500\n",
      "\n",
      "    First commit of my_abs (no try/except yet)\n"
     ]
    }
   ],
   "source": [
    "git log"
   ]
  },
  {
   "cell_type": "markdown",
   "id": "361f94b1",
   "metadata": {},
   "source": [
    "## 4.4: Adding more changes"
   ]
  },
  {
   "cell_type": "markdown",
   "id": "c4c17a6a-8173-4ac6-aeb3-b6c3bdc6be2b",
   "metadata": {},
   "source": [
    "### Back to our original working copy\n",
    "\n",
    "Let's return to our original working copy and make some more changes"
   ]
  },
  {
   "cell_type": "code",
   "execution_count": 23,
   "id": "6b8d48d9",
   "metadata": {},
   "outputs": [],
   "source": [
    "cd ~/git-workflow"
   ]
  },
  {
   "cell_type": "markdown",
   "id": "ce0babf9",
   "metadata": {},
   "source": [
    "### Making more changes\n",
    "\n",
    "Let's add some new features to `my_abs.py`.  Copy/paste this into my_abs.py\n",
    "\n",
    "\n",
    "``` python\n",
    "import math\n",
    "\n",
    "def my_abs(x):\n",
    "    try:\n",
    "        if x < 0:\n",
    "            return -x\n",
    "        else:\n",
    "            return x\n",
    "    except TypeError:\n",
    "        return math.nan\n",
    "```"
   ]
  },
  {
   "cell_type": "markdown",
   "id": "f918dc44-b4e6-41ed-bbef-f8d35d8fd2f1",
   "metadata": {},
   "source": [
    "### `git diff`: Show changes in modified files\n",
    "\n",
    "At this point, `my_abs.py` is the in the \"modified\" state.  It has changes that have not yet been staged.  It can be very useful to see changes before you stage and commit. `git diff` lets you do exactly that.\n",
    "\n",
    "The appearance of a \"diff\" is the same in many places.  GitHub and your IDE will use a very similar appearance when showing you differences in files.  Hence, understanding diffs is a key skill for understanding your code's history.  The meaning is:\n",
    "* Lines that are green and/or begin with a \"+\" have been added to the newer version but are not present in the older vesion.\n",
    "* Lines that are red and/or begin with a \"-\" are present in the older version but have been omitted in the newer version.\n",
    "* Lines that are not colored are the same in both versions"
   ]
  },
  {
   "cell_type": "code",
   "execution_count": 25,
   "id": "f934ebba",
   "metadata": {},
   "outputs": [
    {
     "name": "stdout",
     "output_type": "stream",
     "text": [
      "\u001b[1mdiff --git a/my_abs.py b/my_abs.py\u001b[m\n",
      "\u001b[1mindex fc89810..64431e6 100644\u001b[m\n",
      "\u001b[1m--- a/my_abs.py\u001b[m\n",
      "\u001b[1m+++ b/my_abs.py\u001b[m\n",
      "\u001b[36m@@ -1,6 +1,11 @@\u001b[m\n",
      "\u001b[32m+\u001b[m\u001b[32mimport math\u001b[m\n",
      "\u001b[32m+\u001b[m\n",
      " def my_abs(x):\u001b[m\n",
      "\u001b[31m-    if x < 0:\u001b[m\n",
      "\u001b[31m-        return -x\u001b[m\n",
      "\u001b[31m-    else:\u001b[m\n",
      "\u001b[31m-        return x\u001b[m\n",
      "\u001b[32m+\u001b[m\u001b[32m    try:\u001b[m\n",
      "\u001b[32m+\u001b[m\u001b[32m        if x < 0:\u001b[m\n",
      "\u001b[32m+\u001b[m\u001b[32m            return -x\u001b[m\n",
      "\u001b[32m+\u001b[m\u001b[32m        else:\u001b[m\n",
      "\u001b[32m+\u001b[m\u001b[32m            return x\u001b[m\n",
      "\u001b[32m+\u001b[m\u001b[32m    except TypeError:\u001b[m\n",
      "\u001b[32m+\u001b[m\u001b[32m        return math.nan\u001b[m\n",
      " \u001b[m\n"
     ]
    }
   ],
   "source": [
    "git diff"
   ]
  },
  {
   "cell_type": "markdown",
   "id": "11b281dd-aeca-4761-b005-d7dc3b0e5fea",
   "metadata": {},
   "source": [
    "### Staging and committing\n",
    "\n",
    "As we mentioned, `my_abs.py` now has unstaged changes.  We can stage and commit them in one shot with the `-a` flag.  This will stage and commit changes to all currently **tracked** files.  \n",
    "\n",
    "After committing, we can verify that there is a new commit in our history.  We'll use some additional options to show a more condensed log.  Logs are, by default, shown from most to least recent.  "
   ]
  },
  {
   "cell_type": "code",
   "execution_count": 26,
   "id": "e748b00c",
   "metadata": {},
   "outputs": [
    {
     "name": "stdout",
     "output_type": "stream",
     "text": [
      "On branch main\n",
      "Your branch is up to date with 'origin/main'.\n",
      "\n",
      "Changes not staged for commit:\n",
      "  (use \"git add <file>...\" to update what will be committed)\n",
      "  (use \"git restore <file>...\" to discard changes in working directory)\n",
      "\t\u001b[31mmodified:   my_abs.py\u001b[m\n",
      "\n",
      "no changes added to commit (use \"git add\" and/or \"git commit -a\")\n"
     ]
    }
   ],
   "source": [
    "git status"
   ]
  },
  {
   "cell_type": "code",
   "execution_count": 27,
   "id": "7ee60091",
   "metadata": {},
   "outputs": [
    {
     "name": "stdout",
     "output_type": "stream",
     "text": [
      "[main faff1d3] Added try/except\n",
      " 1 file changed, 9 insertions(+), 4 deletions(-)\n"
     ]
    }
   ],
   "source": [
    "git commit -am \"Added try/except\""
   ]
  },
  {
   "cell_type": "code",
   "execution_count": 28,
   "id": "03b68f5d",
   "metadata": {},
   "outputs": [
    {
     "name": "stdout",
     "output_type": "stream",
     "text": [
      "* \u001b[33mfaff1d3\u001b[m\u001b[33m (\u001b[m\u001b[1;36mHEAD -> \u001b[m\u001b[1;32mmain\u001b[m\u001b[33m)\u001b[m Added try/except\n",
      "* \u001b[33m0565d47\u001b[m\u001b[33m (\u001b[m\u001b[1;31morigin/main\u001b[m\u001b[33m)\u001b[m First commit of my_abs (no try/except yet)\n"
     ]
    }
   ],
   "source": [
    "git log --oneline --graph --branches --remotes "
   ]
  },
  {
   "cell_type": "markdown",
   "id": "53444763-fb20-4774-98a2-e68ad9490104",
   "metadata": {},
   "source": [
    "### Pushing to remote\n",
    "\n",
    "Finally, we'll push our updates to GitHub.  Go back to your GitHub webpage and see your updates!  (You might have to click refresh again.)"
   ]
  },
  {
   "cell_type": "code",
   "execution_count": 29,
   "id": "a780c175",
   "metadata": {},
   "outputs": [
    {
     "name": "stdout",
     "output_type": "stream",
     "text": [
      "Enumerating objects: 5, done.\n",
      "Counting objects: 100% (5/5), done.\n",
      "Delta compression using up to 12 threads\n",
      "Compressing objects: 100% (3/3), done.\n",
      "Writing objects: 100% (3/3), 375 bytes | 375.00 KiB/s, done.\n",
      "Total 3 (delta 0), reused 0 (delta 0), pack-reused 0\n",
      "To github.com:GeorgeBurdell/git-workflow.git\n",
      "   0565d47..faff1d3  main -> main\n"
     ]
    }
   ],
   "source": [
    "git push"
   ]
  },
  {
   "cell_type": "markdown",
   "id": "c986b435-8a79-4479-b18a-7bb44a7f79c8",
   "metadata": {},
   "source": [
    "## 4.5: Getting new changes from the remote\n",
    "\n",
    "Like most things in Git, you have to be extremely explicit about updating your working copies.  If you push changes from one working copy, then other working copies are **not** automatically updated. You must explicitly download the new changes in the other working copies.  \n",
    "\n",
    "### What's happening in our other working copy?\n",
    "\n",
    "Let's go back to other working copy in `~/somewhere-else/git-workflow`.  The log shows that the working copy does *not* have the changes that we just pushed.  And if we look at `my_abs.py`, we'll see it's still at the older version.  "
   ]
  },
  {
   "cell_type": "code",
   "execution_count": 30,
   "id": "fa4918ea-0b51-44aa-a2ea-b042d0858c76",
   "metadata": {},
   "outputs": [],
   "source": [
    "cd ~/somewhere-else/git-workflow"
   ]
  },
  {
   "cell_type": "code",
   "execution_count": 31,
   "id": "34ff6f07-f201-4383-aaf6-339f8c01ba3d",
   "metadata": {},
   "outputs": [
    {
     "name": "stdout",
     "output_type": "stream",
     "text": [
      "\u001b[33mcommit 0565d4790146c2efaa59041453e7c7c09baa3cc1\u001b[m\u001b[33m (\u001b[m\u001b[1;36mHEAD -> \u001b[m\u001b[1;32mmain\u001b[m\u001b[33m, \u001b[m\u001b[1;31morigin/main\u001b[m\u001b[33m, \u001b[m\u001b[1;31morigin/HEAD\u001b[m\u001b[33m)\u001b[m\n",
      "Author: George Burdell <gburdell@gmail.com>\n",
      "Date:   Fri May 10 16:07:41 2024 -0500\n",
      "\n",
      "    First commit of my_abs (no try/except yet)\n"
     ]
    }
   ],
   "source": [
    "git log"
   ]
  },
  {
   "cell_type": "code",
   "execution_count": 32,
   "id": "17555288-776c-44a9-a48f-423edb3909d3",
   "metadata": {},
   "outputs": [
    {
     "name": "stdout",
     "output_type": "stream",
     "text": [
      "def my_abs(x):\n",
      "    if x < 0:\n",
      "        return -x\n",
      "    else:\n",
      "        return x\n",
      "\n"
     ]
    }
   ],
   "source": [
    "cat my_abs.py"
   ]
  },
  {
   "cell_type": "markdown",
   "id": "5e6d7c55-5e81-4b30-8719-ab1619c70915",
   "metadata": {},
   "source": [
    "### `git pull`: Download changes from the remote\n",
    "\n",
    "We will bring this working copy up-to-date with `git pull`.  The syntax is:\n",
    "\n",
    "```\n",
    "git pull [<remote> <branch_name>]\n",
    "```\n",
    "If the branch has a default remote, then we can omit the extra arguments and just run `git pull`.  Now when we look at the log and the contents of `my_abs.py`, we see that everything's up-to-date with the remote."
   ]
  },
  {
   "cell_type": "code",
   "execution_count": 33,
   "id": "f32cfb47-bee2-4179-adcb-1d66f438c925",
   "metadata": {},
   "outputs": [
    {
     "name": "stdout",
     "output_type": "stream",
     "text": [
      "\u001b[33mhint: Pulling without specifying how to reconcile divergent branches is\u001b[m\n",
      "\u001b[33mhint: discouraged. You can squelch this message by running one of the following\u001b[m\n",
      "\u001b[33mhint: commands sometime before your next pull:\u001b[m\n",
      "\u001b[33mhint: \u001b[m\n",
      "\u001b[33mhint:   git config pull.rebase false  # merge (the default strategy)\u001b[m\n",
      "\u001b[33mhint:   git config pull.rebase true   # rebase\u001b[m\n",
      "\u001b[33mhint:   git config pull.ff only       # fast-forward only\u001b[m\n",
      "\u001b[33mhint: \u001b[m\n",
      "\u001b[33mhint: You can replace \"git config\" with \"git config --global\" to set a default\u001b[m\n",
      "\u001b[33mhint: preference for all repositories. You can also pass --rebase, --no-rebase,\u001b[m\n",
      "\u001b[33mhint: or --ff-only on the command line to override the configured default per\u001b[m\n",
      "\u001b[33mhint: invocation.\u001b[m\n",
      "remote: Enumerating objects: 5, done.\u001b[K\n",
      "remote: Counting objects: 100% (5/5), done.\u001b[K\n",
      "remote: Compressing objects: 100% (3/3), done.\u001b[K\n",
      "remote: Total 3 (delta 0), reused 3 (delta 0), pack-reused 0\u001b[K\n",
      "Unpacking objects: 100% (3/3), 355 bytes | 50.00 KiB/s, done.\n",
      "From github.com:GeorgeBurdell/git-workflow\n",
      "   0565d47..faff1d3  main       -> origin/main\n",
      "Updating 0565d47..faff1d3\n",
      "Fast-forward\n",
      " my_abs.py | 13 \u001b[32m+++++++++\u001b[m\u001b[31m----\u001b[m\n",
      " 1 file changed, 9 insertions(+), 4 deletions(-)\n"
     ]
    }
   ],
   "source": [
    "git pull"
   ]
  },
  {
   "cell_type": "code",
   "execution_count": 34,
   "id": "b021f332-09f1-4c23-a8f7-026b00bd2d0f",
   "metadata": {},
   "outputs": [
    {
     "name": "stdout",
     "output_type": "stream",
     "text": [
      "\u001b[33mcommit faff1d33243766a5a157d112c9a873db3459caad\u001b[m\u001b[33m (\u001b[m\u001b[1;36mHEAD -> \u001b[m\u001b[1;32mmain\u001b[m\u001b[33m, \u001b[m\u001b[1;31morigin/main\u001b[m\u001b[33m, \u001b[m\u001b[1;31morigin/HEAD\u001b[m\u001b[33m)\u001b[m\n",
      "Author: George Burdell <gburdell@gmail.com>\n",
      "Date:   Fri May 10 16:10:13 2024 -0500\n",
      "\n",
      "    Added try/except\n",
      "\n",
      "\u001b[33mcommit 0565d4790146c2efaa59041453e7c7c09baa3cc1\u001b[m\n",
      "Author: George Burdell <gburdell@gmail.com>\n",
      "Date:   Fri May 10 16:07:41 2024 -0500\n",
      "\n",
      "    First commit of my_abs (no try/except yet)\n"
     ]
    }
   ],
   "source": [
    "git log"
   ]
  },
  {
   "cell_type": "code",
   "execution_count": 35,
   "id": "b4111bfd-9d25-4e88-b15e-033e926524c0",
   "metadata": {},
   "outputs": [
    {
     "name": "stdout",
     "output_type": "stream",
     "text": [
      "import math\n",
      "\n",
      "def my_abs(x):\n",
      "    try:\n",
      "        if x < 0:\n",
      "            return -x\n",
      "        else:\n",
      "            return x\n",
      "    except TypeError:\n",
      "        return math.nan\n",
      "\n"
     ]
    }
   ],
   "source": [
    "cat my_abs.py"
   ]
  },
  {
   "cell_type": "markdown",
   "id": "9d874dd6-2e53-47df-abcc-dac1943dae17",
   "metadata": {},
   "source": [
    "### Back to our first working copy\n",
    "\n",
    "We'll be working with our first working copy in the next section, so let's make sure to move back:"
   ]
  },
  {
   "cell_type": "code",
   "execution_count": 36,
   "id": "34509fa3-7417-40ad-93e0-0de9e682119d",
   "metadata": {},
   "outputs": [],
   "source": [
    "cd ~/git-workflow"
   ]
  },
  {
   "cell_type": "markdown",
   "id": "ab02d745",
   "metadata": {},
   "source": [
    "# 5: Branches\n",
    "\n",
    "<img src=\"../img/icon-branch.png\" width=\"200\" />"
   ]
  },
  {
   "cell_type": "markdown",
   "id": "08905a01-ee1d-4828-bd23-64209d4498d3",
   "metadata": {},
   "source": [
    "At this point, we've been discussing one branch, \"main\".  Now we will consider additional branches, and we'll see how branches can help you in collaborative workflows."
   ]
  },
  {
   "cell_type": "markdown",
   "id": "af2cfcaa-7c90-491d-b5f4-156cd6d60487",
   "metadata": {},
   "source": [
    "## 5.1: About Git branches"
   ]
  },
  {
   "cell_type": "markdown",
   "id": "b9f65825-73e4-4143-9bb5-f4d7f097c54e",
   "metadata": {},
   "source": [
    "### Git branches are pointers\n",
    "\n",
    "It's common to think about Git branches like the branches of a family tree.  However, it's more useful to remember that **a Git branch is a pointer to a commit**.  \n",
    "\n",
    "In older VCSs, a \"branch\" was implemented as a complete copy of the files.  This used a large amount of space in the database, and hence, branches were a less common part of workflows.\n",
    "\n",
    "In contrast, Git branches are fast and cheap with very little storage or performance overhead.  They are an integral part of any Git workflow."
   ]
  },
  {
   "cell_type": "markdown",
   "id": "58560ff3-3f7d-4bd4-bc8b-ccbc75e7e7f9",
   "metadata": {},
   "source": [
    "### Our branches\n",
    "\n",
    "In fact, we already have multiple branches.  If you look at `git log` (make sure you've moved back to `~/git-workflow` !) you'll see:\n",
    "\n",
    "* **HEAD** is a special branch that points to the current state of our working tree.\n",
    "* **main** is the branch we created when we initialized the repo.\n",
    "* **origin/main** is a remote-tracking branch.  It reflects the state of our remote repo \"origin\" on GitHub.  More on this soon...\n",
    "\n",
    "\n",
    "\n",
    "<img src=\"../img/branches-01.png\" width=\"400\" />"
   ]
  },
  {
   "cell_type": "markdown",
   "id": "c48f2f0b-57c9-4845-a4ce-e31afe45c616",
   "metadata": {},
   "source": [
    "## 5.2: Checking-out changes"
   ]
  },
  {
   "cell_type": "markdown",
   "id": "928ce8e5",
   "metadata": {},
   "source": [
    "### `git checkout` : Changing the files in the working tree\n",
    "\n",
    "Suppose you want to work with the files from a different point in time.  We use `git checkout`, which has the syntax:\n",
    "\n",
    "```\n",
    "git checkout <branch | commit>\n",
    "```\n",
    "\n",
    "First let's checkout the files from our first commit.  Every commit is uniquely identified by an alphanumeric hash, and we can use this to specify a commit in `git checkout` and other commands.\n",
    "\n",
    "In the repo history from this demo, our first commit has the hash ID `0565d4790146c2efaa59041453e7c7c09baa3cc1`.  You can use abbreviated hashes (as long as the abbreviation still uniquely identifies a commit), and it's common to use the first 7 characters.  So we will use `0565d47`. \n",
    "\n",
    "(*Your repo will almost certainly have different hashes, so as you're following along, be sure to use your repo's hash.*)"
   ]
  },
  {
   "cell_type": "code",
   "execution_count": 37,
   "id": "06f0a17c",
   "metadata": {
    "scrolled": true
   },
   "outputs": [
    {
     "name": "stdout",
     "output_type": "stream",
     "text": [
      "Note: switching to '0565d47'.\n",
      "\n",
      "You are in 'detached HEAD' state. You can look around, make experimental\n",
      "changes and commit them, and you can discard any commits you make in this\n",
      "state without impacting any branches by switching back to a branch.\n",
      "\n",
      "If you want to create a new branch to retain commits you create, you may\n",
      "do so (now or later) by using -c with the switch command. Example:\n",
      "\n",
      "  git switch -c <new-branch-name>\n",
      "\n",
      "Or undo this operation with:\n",
      "\n",
      "  git switch -\n",
      "\n",
      "Turn off this advice by setting config variable advice.detachedHead to false\n",
      "\n",
      "HEAD is now at 0565d47 First commit of my_abs (no try/except yet)\n"
     ]
    }
   ],
   "source": [
    "git checkout 0565d47"
   ]
  },
  {
   "cell_type": "markdown",
   "id": "57c9f5f4-938c-4ed1-a9ae-1166e75f4c49",
   "metadata": {},
   "source": [
    "### Results of checkout\n",
    "\n",
    "When we look at the log, we can see that the HEAD has moved back to \"First commit\".  Likewise, `my_abs.py` in the working tree is at the state of \"First commit\" -- it does not have the try/except .  However, note that the branches \"main\" and \"origin/main\" are unchanged."
   ]
  },
  {
   "cell_type": "code",
   "execution_count": 38,
   "id": "d58aeba8",
   "metadata": {},
   "outputs": [
    {
     "name": "stdout",
     "output_type": "stream",
     "text": [
      "* \u001b[33mfaff1d3\u001b[m\u001b[33m (\u001b[m\u001b[1;31morigin/main\u001b[m\u001b[33m, \u001b[m\u001b[1;32mmain\u001b[m\u001b[33m)\u001b[m Added try/except\n",
      "* \u001b[33m0565d47\u001b[m\u001b[33m (\u001b[m\u001b[1;36mHEAD\u001b[m\u001b[33m)\u001b[m First commit of my_abs (no try/except yet)\n"
     ]
    }
   ],
   "source": [
    "git log --oneline --graph --branches --remotes "
   ]
  },
  {
   "cell_type": "markdown",
   "id": "e638c66f-f54c-4032-8d05-e89a2a736899",
   "metadata": {},
   "source": [
    "<img src=\"../img/branches-02.png\" width=\"400\" />"
   ]
  },
  {
   "cell_type": "code",
   "execution_count": 39,
   "id": "5fc0b17d",
   "metadata": {},
   "outputs": [
    {
     "name": "stdout",
     "output_type": "stream",
     "text": [
      "def my_abs(x):\n",
      "    if x < 0:\n",
      "        return -x\n",
      "    else:\n",
      "        return x\n",
      "\n"
     ]
    }
   ],
   "source": [
    "cat my_abs.py"
   ]
  },
  {
   "cell_type": "markdown",
   "id": "b4261379-54df-4904-81b2-adb6d90e7b34",
   "metadata": {},
   "source": [
    "### Detached HEAD\n",
    "\n",
    "What about the scary message about the detached HEAD?  This is perfectly normal and common!  All it means is that HEAD is not pointing to the same commit as any other branch.  If you're exploring your repo's history, you will encounter this message often.  You can suppress this message with:\n",
    "\n",
    "```\n",
    "git config --global advice.detachedHead false\n",
    "```\n",
    "\n",
    "Or you can learn to ignore it :)"
   ]
  },
  {
   "cell_type": "markdown",
   "id": "5dab8c42",
   "metadata": {},
   "source": [
    "### Checking out a branch\n",
    "\n",
    "You can also specify a branch name to `git commit`.  This is probably the more common usage.\n",
    "\n",
    "Let's return our working tree to the state of \"main\".  You will notice that:\n",
    "* The HEAD moves back to \"main\"\n",
    "* The state of the working tree is also back to \"main\". Notices that `my_abs.py` has the try/except as expected."
   ]
  },
  {
   "cell_type": "code",
   "execution_count": 40,
   "id": "948b9057",
   "metadata": {},
   "outputs": [
    {
     "name": "stdout",
     "output_type": "stream",
     "text": [
      "Previous HEAD position was 0565d47 First commit of my_abs (no try/except yet)\n",
      "Switched to branch 'main'\n",
      "Your branch is up to date with 'origin/main'.\n"
     ]
    }
   ],
   "source": [
    "git checkout main"
   ]
  },
  {
   "cell_type": "code",
   "execution_count": 41,
   "id": "8d1457ac",
   "metadata": {},
   "outputs": [
    {
     "name": "stdout",
     "output_type": "stream",
     "text": [
      "* \u001b[33mfaff1d3\u001b[m\u001b[33m (\u001b[m\u001b[1;36mHEAD -> \u001b[m\u001b[1;32mmain\u001b[m\u001b[33m, \u001b[m\u001b[1;31morigin/main\u001b[m\u001b[33m)\u001b[m Added try/except\n",
      "* \u001b[33m0565d47\u001b[m First commit of my_abs (no try/except yet)\n"
     ]
    }
   ],
   "source": [
    "git log --oneline --graph --branches --remotes "
   ]
  },
  {
   "cell_type": "markdown",
   "id": "57221b97-baca-450d-862b-9e3b1c515af9",
   "metadata": {},
   "source": [
    "<img src=\"../img/branches-03.png\" width=\"400\" />"
   ]
  },
  {
   "cell_type": "code",
   "execution_count": 42,
   "id": "ba62a4ef",
   "metadata": {},
   "outputs": [
    {
     "name": "stdout",
     "output_type": "stream",
     "text": [
      "import math\n",
      "\n",
      "def my_abs(x):\n",
      "    try:\n",
      "        if x < 0:\n",
      "            return -x\n",
      "        else:\n",
      "            return x\n",
      "    except TypeError:\n",
      "        return math.nan\n",
      "\n"
     ]
    }
   ],
   "source": [
    "cat my_abs.py"
   ]
  },
  {
   "cell_type": "markdown",
   "id": "0eb44bd9-b277-4777-9801-c1c18e6fcf34",
   "metadata": {},
   "source": [
    "## 5.3: Using topic branches"
   ]
  },
  {
   "cell_type": "markdown",
   "id": "8b5150bc-f6d6-4851-902b-63fa0e93c67e",
   "metadata": {},
   "source": [
    "## The why and what of topic branches\n",
    "\n",
    "When you are collaborating on a large code base, **topic branches** (or **feature branches**) can be your team's best friend.\n",
    "\n",
    "The idea is that, when you want to develop a new feature or fix a bug, you create a branch specifically for that purpose (or \"topic\").  A topic branch has a very specific purpose and (ideally) touches a limited part of the code base.  It often has a limited lifetime, too; when its changes are merged into the main branch, the topic branch is usally deleted.\n",
    "\n",
    "This has a number of technical benefits, but the greatest benefits are organizational:\n",
    "\n",
    "* Multiple developers can work on the multiple, independent features at the same time without stepping on each others' toes\n",
    "* Maintainers can more-easily understand and approve changes\n",
    "* Topic branches can correspond to tasks or cards in a project management system"
   ]
  },
  {
   "cell_type": "markdown",
   "id": "ff116d0a",
   "metadata": {},
   "source": [
    "### `git checkout -b`: Create a new branch"
   ]
  },
  {
   "cell_type": "markdown",
   "id": "75b8958b-8db0-48b6-aef7-cc642e79245f",
   "metadata": {},
   "source": [
    "Let's create a topic branch to implement some type-specific behavior in `my_abs`.  We will call this branch `types`.  We use the command `git checkout -b <branch_name>` to create a new branch at HEAD's current location.  \n",
    "\n",
    "(*Many projects have naming conventions for topic branches. Please consult your project maintainers for details.*)\n",
    "\n",
    "Notice that by creating the branch, we have just created a new pointer to a commit.  No files have been copied or changed, and no new commits have been made."
   ]
  },
  {
   "cell_type": "code",
   "execution_count": 43,
   "id": "a5d7d48d",
   "metadata": {},
   "outputs": [
    {
     "name": "stdout",
     "output_type": "stream",
     "text": [
      "Switched to a new branch 'types'\n"
     ]
    }
   ],
   "source": [
    "git checkout -b types"
   ]
  },
  {
   "cell_type": "markdown",
   "id": "4fc385ee-6e94-4b57-ba79-ff297c3bd275",
   "metadata": {},
   "source": [
    "<img src=\"../img/branches-04.png\" width=\"400\" />"
   ]
  },
  {
   "cell_type": "code",
   "execution_count": 44,
   "id": "63cd1fc4",
   "metadata": {},
   "outputs": [
    {
     "name": "stdout",
     "output_type": "stream",
     "text": [
      "* \u001b[33mfaff1d3\u001b[m\u001b[33m (\u001b[m\u001b[1;36mHEAD -> \u001b[m\u001b[1;32mtypes\u001b[m\u001b[33m, \u001b[m\u001b[1;31morigin/main\u001b[m\u001b[33m, \u001b[m\u001b[1;32mmain\u001b[m\u001b[33m)\u001b[m Added try/except\n",
      "* \u001b[33m0565d47\u001b[m First commit of my_abs (no try/except yet)\n"
     ]
    }
   ],
   "source": [
    "git log --oneline --graph --branches --remotes "
   ]
  },
  {
   "cell_type": "markdown",
   "id": "1dd250f5",
   "metadata": {},
   "source": [
    "### Making new changes\n",
    "\n",
    "Now we are ready to implement our new feature.  Copy this to `my_abs.py`\n",
    "\n",
    "``` python\n",
    "import math\n",
    "import numbers\n",
    "\n",
    "def my_abs(x):\n",
    "    if isinstance(x, numbers.Real):\n",
    "        if x < 0:\n",
    "            return -x\n",
    "        else:\n",
    "            return x\n",
    "    elif isinstance(x, numbers.Complex):\n",
    "        return math.sqrt(\n",
    "            x.real ** 2 + x.imag ** 2)\n",
    "    else:\n",
    "        return math.nan\n",
    "```"
   ]
  },
  {
   "cell_type": "code",
   "execution_count": 45,
   "id": "59406121",
   "metadata": {},
   "outputs": [
    {
     "name": "stdout",
     "output_type": "stream",
     "text": [
      "\u001b[1mdiff --git a/my_abs.py b/my_abs.py\u001b[m\n",
      "\u001b[1mindex 64431e6..bf90a6f 100644\u001b[m\n",
      "\u001b[1m--- a/my_abs.py\u001b[m\n",
      "\u001b[1m+++ b/my_abs.py\u001b[m\n",
      "\u001b[36m@@ -1,11 +1,15 @@\u001b[m\n",
      " import math\u001b[m\n",
      "\u001b[32m+\u001b[m\u001b[32mimport numbers\u001b[m\n",
      " \u001b[m\n",
      " def my_abs(x):\u001b[m\n",
      "\u001b[31m-    try:\u001b[m\n",
      "\u001b[32m+\u001b[m\u001b[32m    if isinstance(x, numbers.Real):\u001b[m\n",
      "         if x < 0:\u001b[m\n",
      "             return -x\u001b[m\n",
      "         else:\u001b[m\n",
      "             return x\u001b[m\n",
      "\u001b[31m-    except TypeError:\u001b[m\n",
      "\u001b[32m+\u001b[m\u001b[32m    elif isinstance(x, numbers.Complex):\u001b[m\n",
      "\u001b[32m+\u001b[m\u001b[32m        return math.sqrt(\u001b[m\n",
      "\u001b[32m+\u001b[m\u001b[32m            x.real ** 2 + x.imag ** 2)\u001b[m\n",
      "\u001b[32m+\u001b[m\u001b[32m    else:\u001b[m\n",
      "         return math.nan\u001b[m\n",
      " \u001b[m\n"
     ]
    }
   ],
   "source": [
    "git diff"
   ]
  },
  {
   "cell_type": "markdown",
   "id": "977d074a-5672-4dea-b671-4f4c37ac33c7",
   "metadata": {},
   "source": [
    "### Results of commit\n",
    "\n",
    "Now let's commit our changes and observe the results:\n",
    "* A new commit has been created, and both HEAD and \"types\" have moved forward.\n",
    "* \"main\" and \"origin/main\" stay put\n",
    "\n",
    "The effect is that your new feature is on \"types\", while \"main\" remains as a stable version."
   ]
  },
  {
   "cell_type": "code",
   "execution_count": 46,
   "id": "4675de8e",
   "metadata": {},
   "outputs": [
    {
     "name": "stdout",
     "output_type": "stream",
     "text": [
      "[types d82a6ba] Using type checks\n",
      " 1 file changed, 6 insertions(+), 2 deletions(-)\n"
     ]
    }
   ],
   "source": [
    "git commit -am \"Using type checks\""
   ]
  },
  {
   "cell_type": "code",
   "execution_count": 47,
   "id": "38710e6a",
   "metadata": {},
   "outputs": [
    {
     "name": "stdout",
     "output_type": "stream",
     "text": [
      "* \u001b[33md82a6ba\u001b[m\u001b[33m (\u001b[m\u001b[1;36mHEAD -> \u001b[m\u001b[1;32mtypes\u001b[m\u001b[33m)\u001b[m Using type checks\n",
      "* \u001b[33mfaff1d3\u001b[m\u001b[33m (\u001b[m\u001b[1;31morigin/main\u001b[m\u001b[33m, \u001b[m\u001b[1;32mmain\u001b[m\u001b[33m)\u001b[m Added try/except\n",
      "* \u001b[33m0565d47\u001b[m First commit of my_abs (no try/except yet)\n"
     ]
    }
   ],
   "source": [
    "git log --oneline --graph --branches --remotes "
   ]
  },
  {
   "cell_type": "markdown",
   "id": "724ad325-05f9-4006-96e9-052562de1a68",
   "metadata": {},
   "source": [
    "<img src=\"../img/branches-05.png\" width=\"500\" />"
   ]
  },
  {
   "cell_type": "markdown",
   "id": "f8b265af",
   "metadata": {},
   "source": [
    "### Making another topic branch\n",
    "\n",
    "Now suppose we want to introduce a separate feature.  We're busy people working on multiple things.  We might have a lot of ideas, and our projects have a lot of tasks to complete.  \n",
    "\n",
    "If we're pursuing a separate feature, we will usually create **a separate topic branch**.  And in many cases, we will want to create the topic branch **from the stable version in \"main\"** (instead of another topic branch).  This keeps our tasks isolated and makes task management much easier.\n",
    "\n",
    "Let's suppose our new feature is a function to compare if two numbers are almost equal to each other.  We'll call the topic branch \"almost-eq\".  Our steps are:\n",
    "1. Checkout \"main\".  If we want to branch off of \"main\", we need to checkout \"main\" first.\n",
    "2. Create the topic branch \"almost-eq\".  \n",
    "\n"
   ]
  },
  {
   "cell_type": "code",
   "execution_count": 48,
   "id": "52a4bd22",
   "metadata": {},
   "outputs": [
    {
     "name": "stdout",
     "output_type": "stream",
     "text": [
      "Switched to branch 'main'\n",
      "Your branch is up to date with 'origin/main'.\n"
     ]
    }
   ],
   "source": [
    "git checkout main"
   ]
  },
  {
   "cell_type": "code",
   "execution_count": 49,
   "id": "e699f4fb",
   "metadata": {},
   "outputs": [
    {
     "name": "stdout",
     "output_type": "stream",
     "text": [
      "Switched to a new branch 'almost-eq'\n"
     ]
    }
   ],
   "source": [
    "git checkout -b almost-eq"
   ]
  },
  {
   "cell_type": "markdown",
   "id": "521c1227-82ee-497d-b2f6-b0ef0b9e9f85",
   "metadata": {},
   "source": [
    "<img src=\"../img/branches-06.png\" width=\"500\" />"
   ]
  },
  {
   "cell_type": "markdown",
   "id": "238ad726",
   "metadata": {},
   "source": [
    "### Implementing `my_almost_eq`\n",
    "\n",
    "Our implementation of `my_almost_eq` will use the existing implementation of `my_abs`.  Notice that `my_almost_eq` does not depend on the actual implementation of `my_abs`; it just depends on the input and output (the interface) of `my_abs`.  This means that someone else can make changes to `my_abs` on another topic branch, and as long as they don't change the interface, then `my_almost_eq` and any other functions that use `my_abs` will still work.\n",
    "\n",
    "Copy this to `my_abs.py`, and note that `my_abs` is not different from \"main\".  \n",
    "\n",
    "``` python\n",
    "import math\n",
    "\n",
    "def my_abs(x):\n",
    "    try:\n",
    "        if x < 0:\n",
    "            return -x\n",
    "        else:\n",
    "            return x\n",
    "    except TypeError:\n",
    "        return math.nan\n",
    "\n",
    "def my_almost_eq(x, y):\n",
    "    return my_abs(x - y) < 1e-16\n",
    "```"
   ]
  },
  {
   "cell_type": "code",
   "execution_count": 50,
   "id": "5eb75914",
   "metadata": {},
   "outputs": [
    {
     "name": "stdout",
     "output_type": "stream",
     "text": [
      "\u001b[1mdiff --git a/my_abs.py b/my_abs.py\u001b[m\n",
      "\u001b[1mindex 64431e6..efa815d 100644\u001b[m\n",
      "\u001b[1m--- a/my_abs.py\u001b[m\n",
      "\u001b[1m+++ b/my_abs.py\u001b[m\n",
      "\u001b[36m@@ -9,3 +9,6 @@\u001b[m \u001b[mdef my_abs(x):\u001b[m\n",
      "     except TypeError:\u001b[m\n",
      "         return math.nan\u001b[m\n",
      " \u001b[m\n",
      "\u001b[32m+\u001b[m\u001b[32mdef my_almost_eq(x, y):\u001b[m\n",
      "\u001b[32m+\u001b[m\u001b[32m    return my_abs(x - y) < 1e-16\u001b[m\n",
      "\u001b[32m+\u001b[m\n"
     ]
    }
   ],
   "source": [
    "git diff"
   ]
  },
  {
   "cell_type": "markdown",
   "id": "75391045-9fb0-44bd-a144-feebbf084558",
   "metadata": {},
   "source": [
    "### Commtting changes to \"almost-eq\"\n",
    "\n",
    "Now we are ready to commit our changes.  The effects are:\n",
    "1. A new commit is created\n",
    "2. HEAD and \"almost-eq\" move forward\n",
    "3. \"types\", \"main\", and \"origin/main\" stay put"
   ]
  },
  {
   "cell_type": "code",
   "execution_count": 51,
   "id": "11c9d176",
   "metadata": {},
   "outputs": [
    {
     "name": "stdout",
     "output_type": "stream",
     "text": [
      "[almost-eq 44a310e] Added my_almost_eq\n",
      " 1 file changed, 3 insertions(+)\n"
     ]
    }
   ],
   "source": [
    "git commit -am \"Added my_almost_eq\""
   ]
  },
  {
   "cell_type": "code",
   "execution_count": 52,
   "id": "8b3c995f",
   "metadata": {},
   "outputs": [
    {
     "name": "stdout",
     "output_type": "stream",
     "text": [
      "* \u001b[33m44a310e\u001b[m\u001b[33m (\u001b[m\u001b[1;36mHEAD -> \u001b[m\u001b[1;32malmost-eq\u001b[m\u001b[33m)\u001b[m Added my_almost_eq\n",
      "\u001b[31m|\u001b[m * \u001b[33md82a6ba\u001b[m\u001b[33m (\u001b[m\u001b[1;32mtypes\u001b[m\u001b[33m)\u001b[m Using type checks\n",
      "\u001b[31m|\u001b[m\u001b[31m/\u001b[m  \n",
      "* \u001b[33mfaff1d3\u001b[m\u001b[33m (\u001b[m\u001b[1;31morigin/main\u001b[m\u001b[33m, \u001b[m\u001b[1;32mmain\u001b[m\u001b[33m)\u001b[m Added try/except\n",
      "* \u001b[33m0565d47\u001b[m First commit of my_abs (no try/except yet)\n"
     ]
    }
   ],
   "source": [
    "git log --oneline --graph --branches --remotes "
   ]
  },
  {
   "cell_type": "markdown",
   "id": "3b0ac54a-4887-4299-a007-ad1377185374",
   "metadata": {},
   "source": [
    "<img src=\"../img/branches-07.png\" width=\"500\" />"
   ]
  },
  {
   "cell_type": "markdown",
   "id": "c1e0e8dd-4eb0-44b2-9376-5e909f7b1874",
   "metadata": {},
   "source": [
    "## 5.4: Merging branches\n",
    "\n",
    "When a topic branch is ready to be added to the main branch, it needs to **merged** into main.\n",
    "\n",
    "In a local repo, you would use the `git merge` command.  We will use it for this demo and study how merges are resolved.  \n",
    "\n",
    "In most collaborative workflows, merges happen on the remote repo (i.e., GitHub).  The main advantage is that GitHub has excellent support for well-defined approval processes through Pull Requests (see upcoming Module 2!).  However, on the backend, the Pull Request is ultimately resolved through a `git merge`.  And understanding how merges are resolved can be vital for making effective Pull Requests."
   ]
  },
  {
   "cell_type": "markdown",
   "id": "d691b56e",
   "metadata": {},
   "source": [
    "### Case 1: A fast-forward merge\n",
    "\n",
    "First, suppose we like the changes in \"types\" and are ready to merge them into \"main\".  We will use the command:\n",
    "\n",
    "```\n",
    "git merge <branch_name>\n",
    "```\n",
    "\n",
    "which will merge the specified branch into the currenly checked-out branch.  Hence, to merge \"types\" into \"main\", we first need to checkout \"main\".  Note how HEAD moves back to \"main\"."
   ]
  },
  {
   "cell_type": "code",
   "execution_count": 53,
   "id": "4aaea794",
   "metadata": {},
   "outputs": [
    {
     "name": "stdout",
     "output_type": "stream",
     "text": [
      "Switched to branch 'main'\n",
      "Your branch is up to date with 'origin/main'.\n"
     ]
    }
   ],
   "source": [
    "git checkout main"
   ]
  },
  {
   "cell_type": "code",
   "execution_count": 54,
   "id": "a04025a4",
   "metadata": {},
   "outputs": [
    {
     "name": "stdout",
     "output_type": "stream",
     "text": [
      "* \u001b[33m44a310e\u001b[m\u001b[33m (\u001b[m\u001b[1;32malmost-eq\u001b[m\u001b[33m)\u001b[m Added my_almost_eq\n",
      "\u001b[31m|\u001b[m * \u001b[33md82a6ba\u001b[m\u001b[33m (\u001b[m\u001b[1;32mtypes\u001b[m\u001b[33m)\u001b[m Using type checks\n",
      "\u001b[31m|\u001b[m\u001b[31m/\u001b[m  \n",
      "* \u001b[33mfaff1d3\u001b[m\u001b[33m (\u001b[m\u001b[1;36mHEAD -> \u001b[m\u001b[1;32mmain\u001b[m\u001b[33m, \u001b[m\u001b[1;31morigin/main\u001b[m\u001b[33m)\u001b[m Added try/except\n",
      "* \u001b[33m0565d47\u001b[m First commit of my_abs (no try/except yet)\n"
     ]
    }
   ],
   "source": [
    "git log --oneline --graph --branches --remotes "
   ]
  },
  {
   "cell_type": "markdown",
   "id": "399bfb38-5180-4bdb-91f6-563c16209073",
   "metadata": {},
   "source": [
    "<img src=\"../img/branches-08.png\" width=\"500\" />"
   ]
  },
  {
   "cell_type": "markdown",
   "id": "ce982ee3-9df6-4408-a925-bc9f6245c712",
   "metadata": {},
   "source": [
    "Now we use `git merge types` to merge \"types\" into main.  In this case, \"types\" is a direct descendent of \"main\", so the merge can be resolved simply by moving \"main\" (and HEAD) forward to \"types.  This is a case where branches very clearly act like pointers: the merge doesn't create any new commits, and it simply moves the pointer for \"main\" (and HEAD) forward.\n",
    "\n",
    "This is called a **fast forward** merge and is the simplest, most unambiguous kind of merge."
   ]
  },
  {
   "cell_type": "code",
   "execution_count": 55,
   "id": "905910d5",
   "metadata": {},
   "outputs": [
    {
     "name": "stdout",
     "output_type": "stream",
     "text": [
      "Updating faff1d3..d82a6ba\n",
      "Fast-forward\n",
      " my_abs.py | 8 \u001b[32m++++++\u001b[m\u001b[31m--\u001b[m\n",
      " 1 file changed, 6 insertions(+), 2 deletions(-)\n"
     ]
    }
   ],
   "source": [
    "git merge types"
   ]
  },
  {
   "cell_type": "code",
   "execution_count": 56,
   "id": "82ab3e68",
   "metadata": {},
   "outputs": [
    {
     "name": "stdout",
     "output_type": "stream",
     "text": [
      "* \u001b[33m44a310e\u001b[m\u001b[33m (\u001b[m\u001b[1;32malmost-eq\u001b[m\u001b[33m)\u001b[m Added my_almost_eq\n",
      "\u001b[31m|\u001b[m * \u001b[33md82a6ba\u001b[m\u001b[33m (\u001b[m\u001b[1;36mHEAD -> \u001b[m\u001b[1;32mmain\u001b[m\u001b[33m, \u001b[m\u001b[1;32mtypes\u001b[m\u001b[33m)\u001b[m Using type checks\n",
      "\u001b[31m|\u001b[m\u001b[31m/\u001b[m  \n",
      "* \u001b[33mfaff1d3\u001b[m\u001b[33m (\u001b[m\u001b[1;31morigin/main\u001b[m\u001b[33m)\u001b[m Added try/except\n",
      "* \u001b[33m0565d47\u001b[m First commit of my_abs (no try/except yet)\n"
     ]
    }
   ],
   "source": [
    "git log --oneline --graph --branches --remotes "
   ]
  },
  {
   "cell_type": "markdown",
   "id": "100ee7df-ccc8-4537-8480-b4a2e6ba1a4f",
   "metadata": {},
   "source": [
    "<img src=\"../img/branches-09.png\" width=\"500\" />"
   ]
  },
  {
   "cell_type": "markdown",
   "id": "816cab49",
   "metadata": {},
   "source": [
    "### Case 2:  A merge commit\n",
    "\n",
    "Now let's consider a case that cannot be resolved with a fast-forward merge.\n",
    "\n",
    "Suppose that we now want to merge \"almost-eq\" into \"main\".  Unlike before, \"almost-eq\" is **not** a direct descendant of \"main\".  If Git simply moved the pointer for \"main\" to the same commit as \"almost-eq\", then all the changes from the previous merge would be left behind.\n",
    "\n",
    "Therefore, to resolve this merge, Git will create a **new commit** with changes from both  \"main\" and \"almost-eq\".  The syntax is the same as before (`git merge almost-eq`), and git will analyze the graph of the history to determine whether to do a fast-forward or other merge.  \n",
    "\n",
    "(*In this Jupyter Notebook, I am using the `--no-edit` flag to prevent a text editor from popping up.  This will use a default message, \"Merge branch 'almost-eq'\".  If you are working directly in the terminal, the `--no-edit` flag is optional.*)"
   ]
  },
  {
   "cell_type": "code",
   "execution_count": 57,
   "id": "f7a94715",
   "metadata": {},
   "outputs": [
    {
     "name": "stdout",
     "output_type": "stream",
     "text": [
      "Auto-merging my_abs.py\n",
      "Merge made by the 'recursive' strategy.\n",
      " my_abs.py | 3 \u001b[32m+++\u001b[m\n",
      " 1 file changed, 3 insertions(+)\n"
     ]
    }
   ],
   "source": [
    "git merge --no-edit almost-eq"
   ]
  },
  {
   "cell_type": "code",
   "execution_count": 58,
   "id": "a188b9d7",
   "metadata": {},
   "outputs": [
    {
     "name": "stdout",
     "output_type": "stream",
     "text": [
      "*   \u001b[33m113d61f\u001b[m\u001b[33m (\u001b[m\u001b[1;36mHEAD -> \u001b[m\u001b[1;32mmain\u001b[m\u001b[33m)\u001b[m Merge branch 'almost-eq'\n",
      "\u001b[31m|\u001b[m\u001b[32m\\\u001b[m  \n",
      "\u001b[31m|\u001b[m * \u001b[33m44a310e\u001b[m\u001b[33m (\u001b[m\u001b[1;32malmost-eq\u001b[m\u001b[33m)\u001b[m Added my_almost_eq\n",
      "* \u001b[32m|\u001b[m \u001b[33md82a6ba\u001b[m\u001b[33m (\u001b[m\u001b[1;32mtypes\u001b[m\u001b[33m)\u001b[m Using type checks\n",
      "\u001b[32m|\u001b[m\u001b[32m/\u001b[m  \n",
      "* \u001b[33mfaff1d3\u001b[m\u001b[33m (\u001b[m\u001b[1;31morigin/main\u001b[m\u001b[33m)\u001b[m Added try/except\n",
      "* \u001b[33m0565d47\u001b[m First commit of my_abs (no try/except yet)\n"
     ]
    }
   ],
   "source": [
    "git log --oneline --graph --branches --remotes "
   ]
  },
  {
   "cell_type": "markdown",
   "id": "635e717b-edc2-487b-b9b3-26578b38380e",
   "metadata": {},
   "source": [
    "<img src=\"../img/branches-10.png\" width=\"500\" />"
   ]
  },
  {
   "cell_type": "markdown",
   "id": "1ede542d-c3f9-4ec9-895b-6408a081ee8c",
   "metadata": {},
   "source": [
    "### Examining results of the merge\n",
    "\n",
    "Let's look at the final results.  Now \"main\" contains:\n",
    "* The implementation of `my_abs` with type-specific behavior (from the branch \"types\")\n",
    "* The function `my_almost_eq` (from \"almost-eq\")\n",
    "\n",
    "The merges went smoothly because our code was well-modularized and the topic branches did not touch the same parts of the code.  This is another reason why well-designed code and coordinated task management can help your collaborations go smoothly"
   ]
  },
  {
   "cell_type": "code",
   "execution_count": 59,
   "id": "771ac698",
   "metadata": {},
   "outputs": [
    {
     "name": "stdout",
     "output_type": "stream",
     "text": [
      "import math\n",
      "import numbers\n",
      "\n",
      "def my_abs(x):\n",
      "    if isinstance(x, numbers.Real):\n",
      "        if x < 0:\n",
      "            return -x\n",
      "        else:\n",
      "            return x\n",
      "    elif isinstance(x, numbers.Complex):\n",
      "        return math.sqrt(\n",
      "            x.real ** 2 + x.imag ** 2)\n",
      "    else:\n",
      "        return math.nan\n",
      "\n",
      "def my_almost_eq(x, y):\n",
      "    return my_abs(x - y) < 1e-16\n",
      "\n"
     ]
    }
   ],
   "source": [
    "cat my_abs.py"
   ]
  },
  {
   "cell_type": "markdown",
   "id": "ac786048-ccc5-4662-8913-ac4a5749547e",
   "metadata": {},
   "source": [
    "## 5.5: Branches and remotes"
   ]
  },
  {
   "cell_type": "markdown",
   "id": "c636a6a5-062e-4d61-88c3-03253baa2ea2",
   "metadata": {},
   "source": [
    "### Remote-tracking branches\n",
    "\n",
    "Now it's finally time to explain \"origin/main\".  This is a **remote-tracking branch**, which is a local branch that indicates the state of a remote branch.  In this case, \"origin/main\" indicates where the branch \"main\" is on the remote \"origin\".  And indeed, if you go to your repo on GitHub, you can confirm that the state of \"main\" is still at the same place as \"origin/main\".\n",
    "\n",
    "Let's do a `git push` and see what happens to both the remote-tracking branch and GitHub.  After the push:\n",
    "* GitHub has the latest changes from main\n",
    "* The remote-tracking branch \"origin/main\" has been moved forward to reflect the new state of the remote."
   ]
  },
  {
   "cell_type": "code",
   "execution_count": 60,
   "id": "24b22605",
   "metadata": {},
   "outputs": [
    {
     "name": "stdout",
     "output_type": "stream",
     "text": [
      "Enumerating objects: 11, done.\n",
      "Counting objects: 100% (11/11), done.\n",
      "Delta compression using up to 12 threads\n",
      "Compressing objects: 100% (9/9), done.\n",
      "Writing objects: 100% (9/9), 1020 bytes | 510.00 KiB/s, done.\n",
      "Total 9 (delta 3), reused 0 (delta 0), pack-reused 0\n",
      "remote: Resolving deltas: 100% (3/3), completed with 1 local object.\u001b[K\n",
      "To github.com:GeorgeBurdell/git-workflow.git\n",
      "   faff1d3..113d61f  main -> main\n"
     ]
    }
   ],
   "source": [
    "git push"
   ]
  },
  {
   "cell_type": "code",
   "execution_count": 61,
   "id": "c077e8cc",
   "metadata": {},
   "outputs": [
    {
     "name": "stdout",
     "output_type": "stream",
     "text": [
      "*   \u001b[33m113d61f\u001b[m\u001b[33m (\u001b[m\u001b[1;36mHEAD -> \u001b[m\u001b[1;32mmain\u001b[m\u001b[33m, \u001b[m\u001b[1;31morigin/main\u001b[m\u001b[33m)\u001b[m Merge branch 'almost-eq'\n",
      "\u001b[31m|\u001b[m\u001b[32m\\\u001b[m  \n",
      "\u001b[31m|\u001b[m * \u001b[33m44a310e\u001b[m\u001b[33m (\u001b[m\u001b[1;32malmost-eq\u001b[m\u001b[33m)\u001b[m Added my_almost_eq\n",
      "* \u001b[32m|\u001b[m \u001b[33md82a6ba\u001b[m\u001b[33m (\u001b[m\u001b[1;32mtypes\u001b[m\u001b[33m)\u001b[m Using type checks\n",
      "\u001b[32m|\u001b[m\u001b[32m/\u001b[m  \n",
      "* \u001b[33mfaff1d3\u001b[m Added try/except\n",
      "* \u001b[33m0565d47\u001b[m First commit of my_abs (no try/except yet)\n"
     ]
    }
   ],
   "source": [
    "git log --oneline --graph --branches --remotes "
   ]
  },
  {
   "cell_type": "markdown",
   "id": "61c338e3-8119-490d-8d96-d9caf3ed7cd6",
   "metadata": {},
   "source": [
    "<img src=\"../img/branches-11.png\" width=\"500\" />"
   ]
  },
  {
   "cell_type": "markdown",
   "id": "0f294954",
   "metadata": {},
   "source": [
    "### When the remote-tracking branch seems wrong\n",
    "\n",
    "The very tricky thing about remote-tracking branches is:  **they are not automatically updated**.  So, if you push from one working copy, but go to another older working copy, then the remote-tracking branch on the latter will be **out-of-date**.  In the older working copy, you must explicitly **fetch** the latest changes from the remote to update the remote-tracking branch.  \n",
    "\n",
    "Let's go back to our other working copy in `~/somewhere-else/git-workflow`.  If we look at the log, we can see that:\n",
    "* \"main\" is not up-to-date\n",
    "* \"origin/main\" is not up-to-date either!"
   ]
  },
  {
   "cell_type": "code",
   "execution_count": 62,
   "id": "44d43acf",
   "metadata": {},
   "outputs": [],
   "source": [
    "cd ~/somewhere-else/git-workflow"
   ]
  },
  {
   "cell_type": "code",
   "execution_count": 63,
   "id": "5d3de2dc",
   "metadata": {
    "jupyter": {
     "source_hidden": true
    }
   },
   "outputs": [
    {
     "name": "stdout",
     "output_type": "stream",
     "text": [
      "* \u001b[33mfaff1d3\u001b[m\u001b[33m (\u001b[m\u001b[1;36mHEAD -> \u001b[m\u001b[1;32mmain\u001b[m\u001b[33m, \u001b[m\u001b[1;31morigin/main\u001b[m\u001b[33m, \u001b[m\u001b[1;31morigin/HEAD\u001b[m\u001b[33m)\u001b[m Added try/except\n",
      "* \u001b[33m0565d47\u001b[m First commit of my_abs (no try/except yet)\n"
     ]
    }
   ],
   "source": [
    "git log --oneline --graph --branches --remotes "
   ]
  },
  {
   "cell_type": "markdown",
   "id": "ec662f84-b735-4f7a-9942-c135660a51a7",
   "metadata": {},
   "source": [
    "<img src=\"../img/branches-12.png\" width=\"400\" />"
   ]
  },
  {
   "cell_type": "code",
   "execution_count": 64,
   "id": "a110a14b",
   "metadata": {},
   "outputs": [
    {
     "name": "stdout",
     "output_type": "stream",
     "text": [
      "import math\n",
      "\n",
      "def my_abs(x):\n",
      "    try:\n",
      "        if x < 0:\n",
      "            return -x\n",
      "        else:\n",
      "            return x\n",
      "    except TypeError:\n",
      "        return math.nan\n",
      "\n"
     ]
    }
   ],
   "source": [
    "cat my_abs.py"
   ]
  },
  {
   "cell_type": "markdown",
   "id": "d0045255-ff79-416e-a0e7-2f0f422f2c8d",
   "metadata": {},
   "source": [
    "### `git fetch`: Update the remote tracking branch\n",
    "\n",
    "We'll get the new changes in two steps.  First, we'll use `git fetch` to update \"origin/main\".  This downloads new commits from the remote and moves the remote-tracking branch forward.   It does **not** change the state of the local branch \"main\".  "
   ]
  },
  {
   "cell_type": "code",
   "execution_count": 65,
   "id": "f3dd25cc",
   "metadata": {},
   "outputs": [
    {
     "name": "stdout",
     "output_type": "stream",
     "text": [
      "remote: Enumerating objects: 11, done.\u001b[K\n",
      "remote: Counting objects: 100% (11/11), done.\u001b[K\n",
      "remote: Compressing objects: 100% (6/6), done.\u001b[K\n",
      "remote: Total 9 (delta 3), reused 9 (delta 3), pack-reused 0\u001b[K\n",
      "Unpacking objects: 100% (9/9), 1000 bytes | 55.00 KiB/s, done.\n",
      "From github.com:GeorgeBurdell/git-workflow\n",
      "   faff1d3..113d61f  main       -> origin/main\n"
     ]
    }
   ],
   "source": [
    "git fetch"
   ]
  },
  {
   "cell_type": "code",
   "execution_count": 66,
   "id": "f17d2633",
   "metadata": {
    "jupyter": {
     "source_hidden": true
    }
   },
   "outputs": [
    {
     "name": "stdout",
     "output_type": "stream",
     "text": [
      "*   \u001b[33m113d61f\u001b[m\u001b[33m (\u001b[m\u001b[1;31morigin/main\u001b[m\u001b[33m, \u001b[m\u001b[1;31morigin/HEAD\u001b[m\u001b[33m)\u001b[m Merge branch 'almost-eq'\n",
      "\u001b[31m|\u001b[m\u001b[32m\\\u001b[m  \n",
      "\u001b[31m|\u001b[m * \u001b[33m44a310e\u001b[m Added my_almost_eq\n",
      "* \u001b[32m|\u001b[m \u001b[33md82a6ba\u001b[m Using type checks\n",
      "\u001b[32m|\u001b[m\u001b[32m/\u001b[m  \n",
      "* \u001b[33mfaff1d3\u001b[m\u001b[33m (\u001b[m\u001b[1;36mHEAD -> \u001b[m\u001b[1;32mmain\u001b[m\u001b[33m)\u001b[m Added try/except\n",
      "* \u001b[33m0565d47\u001b[m First commit of my_abs (no try/except yet)\n"
     ]
    }
   ],
   "source": [
    "git log --oneline --graph --branches --remotes "
   ]
  },
  {
   "cell_type": "markdown",
   "id": "71f647a8-19bf-48be-be5d-8fab1467a6c3",
   "metadata": {},
   "source": [
    "<img src=\"../img/branches-13.png\" width=\"500\" />"
   ]
  },
  {
   "cell_type": "markdown",
   "id": "3730b3ba-3a87-4f20-b45f-e7705d31979c",
   "metadata": {},
   "source": [
    "### `git merge`: Merge remote-tracking branch into local branch\n",
    "\n",
    "In many ways, remote tracking branches can be treated like other branches.  In particular, we can use them in merges.  \n",
    "\n",
    "So, to bring \"main\" up-to-date with \"origin/main\", we will use `git merge origin/main`.  Since \"origin/main\" is a direct descendent of \"main\", this will be resolved as a fast-forward merge."
   ]
  },
  {
   "cell_type": "code",
   "execution_count": 67,
   "id": "7e2afebf",
   "metadata": {},
   "outputs": [
    {
     "name": "stdout",
     "output_type": "stream",
     "text": [
      "Updating faff1d3..113d61f\n",
      "Fast-forward\n",
      " my_abs.py | 11 \u001b[32m+++++++++\u001b[m\u001b[31m--\u001b[m\n",
      " 1 file changed, 9 insertions(+), 2 deletions(-)\n"
     ]
    }
   ],
   "source": [
    "git merge origin/main"
   ]
  },
  {
   "cell_type": "code",
   "execution_count": 68,
   "id": "2c41fafd",
   "metadata": {
    "jupyter": {
     "source_hidden": true
    }
   },
   "outputs": [
    {
     "name": "stdout",
     "output_type": "stream",
     "text": [
      "*   \u001b[33m113d61f\u001b[m\u001b[33m (\u001b[m\u001b[1;36mHEAD -> \u001b[m\u001b[1;32mmain\u001b[m\u001b[33m, \u001b[m\u001b[1;31morigin/main\u001b[m\u001b[33m, \u001b[m\u001b[1;31morigin/HEAD\u001b[m\u001b[33m)\u001b[m Merge branch 'almost-eq'\n",
      "\u001b[31m|\u001b[m\u001b[32m\\\u001b[m  \n",
      "\u001b[31m|\u001b[m * \u001b[33m44a310e\u001b[m Added my_almost_eq\n",
      "* \u001b[32m|\u001b[m \u001b[33md82a6ba\u001b[m Using type checks\n",
      "\u001b[32m|\u001b[m\u001b[32m/\u001b[m  \n",
      "* \u001b[33mfaff1d3\u001b[m Added try/except\n",
      "* \u001b[33m0565d47\u001b[m First commit of my_abs (no try/except yet)\n"
     ]
    }
   ],
   "source": [
    "git log --oneline --graph --branches --remotes "
   ]
  },
  {
   "cell_type": "markdown",
   "id": "b5babdfd-ab69-4c52-ae45-3ee1a7fad7df",
   "metadata": {},
   "source": [
    "<img src=\"../img/branches-14.png\" width=\"500\" />"
   ]
  },
  {
   "cell_type": "code",
   "execution_count": 69,
   "id": "d4a58bc1",
   "metadata": {
    "scrolled": true
   },
   "outputs": [
    {
     "name": "stdout",
     "output_type": "stream",
     "text": [
      "import math\n",
      "import numbers\n",
      "\n",
      "def my_abs(x):\n",
      "    if isinstance(x, numbers.Real):\n",
      "        if x < 0:\n",
      "            return -x\n",
      "        else:\n",
      "            return x\n",
      "    elif isinstance(x, numbers.Complex):\n",
      "        return math.sqrt(\n",
      "            x.real ** 2 + x.imag ** 2)\n",
      "    else:\n",
      "        return math.nan\n",
      "\n",
      "def my_almost_eq(x, y):\n",
      "    return my_abs(x - y) < 1e-16\n",
      "\n"
     ]
    }
   ],
   "source": [
    "cat my_abs.py"
   ]
  },
  {
   "cell_type": "markdown",
   "id": "ce34aca9-0ce8-4886-add2-9a5962e00f05",
   "metadata": {},
   "source": [
    "### `git pull` revisited\n",
    "\n",
    "When we updated \"main\" just now, why didn't we use `git pull` like before?  We could've!  In fact, a `git pull` is just a fetch followed by a merge.  This time, I wanted to illustrate what was happening with the remote-tracking branches, so I used two explicit steps. \n",
    "\n",
    "The vast majority of the time, you'll be doing a `pull` instead of separate `fetch` and `merge`.  But sometimes -- like if your local history is messy -- it can be helpful to do a fetch and see what's happening before you merge. "
   ]
  }
 ],
 "metadata": {
  "celltoolbar": "Slideshow",
  "kernelspec": {
   "display_name": "Bash",
   "language": "bash",
   "name": "bash"
  },
  "language_info": {
   "codemirror_mode": "shell",
   "file_extension": ".sh",
   "mimetype": "text/x-sh",
   "name": "bash"
  }
 },
 "nbformat": 4,
 "nbformat_minor": 5
}
