{
 "cells": [
  {
   "cell_type": "markdown",
   "id": "3bb47eff3a262dce",
   "metadata": {
    "collapsed": false,
    "id": "3bb47eff3a262dce",
    "jupyter": {
     "outputs_hidden": false
    }
   },
   "source": [
    "# Module 6: Code Review\n",
    "\n",
    "\n",
    "## Lesson Overview\n",
    "\n",
    "By the end of this lesson you should understand:\n",
    "\n",
    "* What is a code review? How do we use them as part of the development and CI/CD process to create high quality code?\n",
    "\n",
    "* What makes a good code review?\n",
    "\n",
    "* How code reviews are compatible with testing infrastructure and tools like code linters.\n",
    "\n",
    "* The process of reviewing code using a related tutorial, [Code Review](https://code-review.org/docs/welcome/introduction/), developed by Helen Kershaw of NCAR.\n",
    "\n",
    "## Related Training Video\n",
    "\n",
    "Video link will be posted after the session.\n",
    "\n",
    "## Important Terminology\n",
    "\n",
    "- Changelist (CL) - a set of code updates a developer is looking to merge into a larger codebase. Can usually be tied to a single commit or patch.\n",
    "\n",
    "  - Sometimes also called a changeset](https://en.wikipedia.org/wiki/Changeset).\n",
    "\n",
    "- Peer review - another name for a code review\n",
    "\n",
    "- LGTM - Looks Good To Me, a typical message used by some code reviewers to approve a changelist / changeset\n",
    "\n",
    "\n",
    "\n"
   ]
  },
  {
   "cell_type": "markdown",
   "id": "34a69328ea7acb4e",
   "metadata": {
    "collapsed": false,
    "id": "34a69328ea7acb4e",
    "jupyter": {
     "outputs_hidden": false
    }
   },
   "source": [
    "## What is a Code Review?\n",
    "\n",
    "A code review is a manual process whereby a developer and a set of their peers review proposed changes to a codebase. Reviewers examine the changelist for code to be committed and determine (along with output from automated tests) whether the code improves the quality of the codebase.  \n",
    "\n",
    "### When and How do Code Reviews Happen?\n",
    "\n",
    "Code reviews can happen anytime that code is pushed to a production-related branch or repository. Some larger projects have specific rules that require a certain number of code reviews (usually 1-3 reviewers) in addition to automated testing and checks for code style. As an example, some companies might require two reviews for user-facing changes (i.e. to a web app that is publicly available) or even three reviews (e.g., two peer reviews and one manager) for critical internal applications.\n",
    "\n",
    "In general the process is:\n",
    "\n",
    "1. Developer submits a pull request to merge new code. They can request\n",
    "specific reviewers.\n",
    "2. Automated tests check to see if code is functionally correct.\n",
    "3. Linters can check for added errors and style issues\n",
    "4. Reviewers look over the code and possibly test it in their own environment.\n",
    "5. Reviewers suggest any changes for the developer to make.\n",
    "6. Developer updates their PR (if needed)\n",
    "7. Code is merged, or the iterative process goes back to 4).\n",
    "\n",
    "As an example from Open Liberty, we see that two automated tests completed correctly but one manual review is needed to merge the new code.\n",
    "\n",
    "![openliberty_example_review](https://github.com/gt-ospo/oss-training/blob/main/img/lesson-05/openliberty-github-pr-review.png)\n",
    "\n",
    "## Why Do We Need Code Reviews?\n",
    "\n",
    "As discussed in previous lectures, automated testing can be a very valuable tool to check if code is correct before it is merged into a larger project. However, it's very tough to get 100% test coverage, and tests can be flawed and might miss some key corner case that is not covered by a test.\n",
    "\n",
    "**Code review provides an important human element to double-check that updates to a code are valid and useful!**\n",
    "\n",
    "Code Reviews also provide good opportunities for collaboration, mentoring, and team building in addition to the benefits of integrating \"correct\" code."
   ]
  },
  {
   "cell_type": "markdown",
   "id": "863d4887a3234c89",
   "metadata": {
    "collapsed": false,
    "id": "863d4887a3234c89",
    "jupyter": {
     "outputs_hidden": false
    }
   },
   "source": [
    "## What Makes a Good Code Review?\n",
    "\n",
    "There are many good resources on how to do a good code review, like Google's [Standard of Code Review](https://google.github.io/eng-practices/review/reviewer/standard.html)\n",
    "\n",
    "In general a good code review process will follow these practices:\n",
    "\n",
    "* A good pull request from the programmer should be complete and easy to parse\n",
    "  * Include a description of what the changes do, testing instructions, and screenshots for GUi-related behaviors\n",
    "* Code reviews should encompass small changelists. That is, a programmer should submit changelists that can be easily reviewed and reviewers should be prompt in their review of submitted code.\n",
    "  * Size of changes varies but many developers suggest a changelist that can be reviewed in less than an hour or 200 lines of code\n",
    "  * Consider splitting CLs along function or file boundaries to make code easier to review.\n",
    "* Automate where possible!\n",
    "  * Automating functionality tests and style checks saves both the developer and reviewer time in the review process.\n",
    "* Communication is important for both authors and reviewers\n",
    "  * Authors should clearly communicate changes and address comments in a timely fashion\n",
    "     * Review guides for [writing good CL descriptions for commits](https://google.github.io/eng-practices/review/developer/cl-descriptions.html)\n",
    "  * Reviewers should review code in a timely fashion and be considerate of the author's effort and time\n",
    "     * Code examples or references to guides can be used to convey how to modify or update CLs\n",
    "* Issues of code style (ie, how many spaces are needed) should be resolved using an agreed upon [style guide](https://en.wikipedia.org/wiki/Style_guide), not by personal preference.\n",
    "  * [Google Style Guides](https://google.github.io/styleguide/)\n",
    "  * [PEP 8 Python Style Guide](https://peps.python.org/pep-0008/)\n",
    "\n",
    "\n",
    "For more information, we suggest that you review the resources below in the `Learn More` section with guides for authors and reviewers.\n"
   ]
  },
  {
   "cell_type": "markdown",
   "id": "heQQwr2sHJef",
   "metadata": {
    "id": "heQQwr2sHJef"
   },
   "source": [
    "# Hands On Practice\n",
    "\n",
    "Fork the codebase from https://code-review.org/ and follow the `Python` reviewing path.\n",
    "\n",
    "Bonus Question:\n",
    "\n",
    "- Do you see any other issues with the GitHub Action workflows as they run? How might you fix this issue?\n"
   ]
  },
  {
   "cell_type": "markdown",
   "id": "dPo-B8vuGabz",
   "metadata": {
    "id": "dPo-B8vuGabz"
   },
   "source": [
    "# Learn More\n",
    "\n",
    "To learn more about the code review process and review best practices, please see the following resources:\n",
    "\n",
    "## Resources for Developers / Code Authors\n",
    "\n",
    "- [How to Make Your Code Reviewer Fall in Love with You](https://mtlynch.io/code-review-love/) - Michael Lynch; 2020\n",
    "- [The Change Authors Guide](https://google.github.io/eng-practices/review/developer/) - Google Engineering Best Practices\n",
    "\n",
    "## Resources for Reviewers\n",
    "\n",
    "- [How to Do Code Reviews Like a Human](https://mtlynch.io/human-code-reviews-1/) [Part 2](https://mtlynch.io/human-code-reviews-2/) - Michael Lynch; 2017\n",
    "- [What to Look For In a Code Review](https://google.github.io/eng-practices/review/reviewer/looking-for.html) - Google Engineering Best Practices\n",
    "\n",
    "## General Code Review Resources\n",
    "- [What is a Code Review?](https://about.gitlab.com/topics/version-control/what-is-code-review/) - Gitlab\n",
    "- [5 Code Review Best Practices](https://www.atlassian.com/blog/add-ons/code-review-best-practices) - Atlassian\n",
    "    - Provides a link to the Cisco study recommending reviewing less than 200 lines of code.\n",
    "- [Code Review Best Practices](https://roadmap.sh/best-practices/code-review)\n",
    "    - A detailed flow chart showing all the possible steps of a code review process. Note that not all of these steps may apply to you!\n",
    "- [30 Proven Code Review Best Practices from Microsoft](https://www.michaelagreiler.com/code-review-best-practices/) - Michaela Greiler\n",
    "    - This site has some additional ideas for authors and reviewers and notes that reviewers should avoid unintentional bias in their reviews.\n",
    "\n",
    "## Videos\n",
    "\n",
    "- [How to Do Code Reviews Like a Human](https://www.youtube.com/watch?v=0t4_MfHgb_A) - Michael Lynch, PyGotham 2018\n",
    "- [Code Review Best Practices](https://www.youtube.com/watch?v=a9_0UUUNt-Y) - Trisha Gee, Upsource Webinars; 2018\n",
    "- [Investing in Code Reviews for Better Research Software](https://ideas-productivity.org/events/hpcbp-068-codereview)\n",
    "    - HPC Best Practices Webinar - Thibault Lestang Dominik Krzemiński, Valerio Maggio; October 2022"
   ]
  }
 ],
 "metadata": {
  "colab": {
   "provenance": []
  },
  "kernelspec": {
   "display_name": "Python 3 (ipykernel)",
   "language": "python",
   "name": "python3"
  },
  "language_info": {
   "codemirror_mode": {
    "name": "ipython",
    "version": 3
   },
   "file_extension": ".py",
   "mimetype": "text/x-python",
   "name": "python",
   "nbconvert_exporter": "python",
   "pygments_lexer": "ipython3",
   "version": "3.12.4"
  }
 },
 "nbformat": 4,
 "nbformat_minor": 5
}
