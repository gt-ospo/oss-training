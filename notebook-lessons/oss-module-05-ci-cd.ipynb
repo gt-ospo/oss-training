{
 "cells": [
  {
   "cell_type": "markdown",
   "id": "3bb47eff3a262dce",
   "metadata": {
    "id": "3bb47eff3a262dce"
   },
   "source": [
    "# Module 05: Continuous Integration and Continuous Delivery\n",
    "\n",
    "\n",
    "## Lesson Overview\n",
    "\n",
    "By the end of this lesson you should understand what CI/CD is and a simple example of how it can be applied to your own codebase. In this lesson you will learn about the following topics:\n",
    "\n",
    "* What CI/CD does and how automation of testing assists with maintaining code quality across large projects.\n",
    "\n",
    "* How GitHub actions can be used to implement CI/CD workflows\n",
    "\n",
    "* How CI/CD tests can be run on multiple backends in parallel with matrix builds\n",
    "\n",
    "* Examples of CI/CD in action with a small test project as well as production-grade CI/CD workflows."
   ]
  },
  {
   "cell_type": "markdown",
   "id": "de3d13952985cf84",
   "metadata": {
    "collapsed": false
   },
   "source": [
    "## Related Training Video\n",
    "\n",
    "Video link will be posted after the session."
   ]
  },
  {
   "cell_type": "markdown",
   "id": "34a69328ea7acb4e",
   "metadata": {
    "id": "34a69328ea7acb4e"
   },
   "source": [
    "## Why is CI/CD important?\n",
    "\n",
    "Continuous Integration and Continous Delivery (CI/CD) refers to an automation strategy for testing code within a codebase and then integrating the tested code into a product ready for use in a production environment. The primary benefit of CI/CD is that it allows for quick evaluation, integration, and deployment of a collaborative code base.\n",
    "\n",
    "* **Continuous Integration** - refers to the automated process of testing and integrating new code. Typically with a GitHub based flow, code is tested from branches or remote forks and then integrated into the main code branch when it passes tests and code review. Packaging of the code into an executable format can also be part of the integration process.  \n",
    "\n",
    "* **Continuous Delivery** - tested and approved code changes are staged and then pushed to the production environment.   \n",
    "\n",
    "* **Continuous Deployment** - refers to a process where production-ready code is automatically deployed after extensive automated testing. This is less common and mostly used for very mature codebases with high code coverage."
   ]
  },
  {
   "cell_type": "markdown",
   "id": "66ad089b7bcf2cd",
   "metadata": {
    "collapsed": false
   },
   "source": [
    "![ci-cd-pipeline](https://github.com/gt-ospo/oss-training/blob/main/img/lesson-04/git-ci-cd.png?raw=1)\n",
    "\n",
    "The Figure shows the typical workflow for a CI/CD pipeline. "
   ]
  },
  {
   "cell_type": "markdown",
   "id": "b93a514aec405d07",
   "metadata": {
    "collapsed": false
   },
   "source": [
    "Read more in depth discussion about CI/CD via [GitHub's overview](https://resources.github.com/devops/ci-cd/)."
   ]
  },
  {
   "cell_type": "markdown",
   "id": "863d4887a3234c89",
   "metadata": {
    "id": "863d4887a3234c89"
   },
   "source": [
    "## CI/CD Basics\n",
    "\n",
    "This training focuses on the use of [GitHub Actions](https://docs.github.com/en/actions), but there are several other popular CI/CD frameworks that you might encounter for the automation of code testing and deployment."
   ]
  },
  {
   "cell_type": "markdown",
   "id": "1934ce182a259c4",
   "metadata": {
    "collapsed": false
   },
   "source": [
    "### Other CI Frameworks\n",
    "\n",
    "There are many different CI/CD frameworks that you could use. Other common frameworks for CI/CD that you might encounter include:\n",
    "\n",
    "- [Jenkins](https://www.jenkins.io/) - self-contained, open source, and Java based; typically used for on-premise deployments.\n",
    "- [CircleCI](https://circleci.com/).\n",
    "- [Maven](https://maven.apache.org/what-is-maven.html) - open source, Apache licensed Java Project Object Model framework.\n",
    "- [Azure Pipelines](https://learn.microsoft.com/en-us/azure/devops/pipelines/architectures/devops-pipelines-baseline-architecture?view=azure-devops) - Microsofts DevOps framework that ties in with other MS Azure infrastructure\n",
    "- [Gitlab CI/CD](https://docs.gitlab.com/ee/ci/) - integrated with Gitlab cloud instances and self-hosted Gitlab installations."
   ]
  },
  {
   "cell_type": "markdown",
   "id": "7b30cb12f35042e3",
   "metadata": {
    "collapsed": false
   },
   "source": [
    "## Common CI/CD formats\n",
    "\n",
    "Many CI/CD frameworks use a common configuration format to specify the steps of a particular CI/CD workflow, typically YAML.   \n",
    "\n",
    "* To learn more about how GitHub Actions uses YAML see this [blog post](https://docs.github.com/en/actions/using-workflows/workflow-syntax-for-github-actions).  \n",
    "* For a quick reference on how to specify certain parameters in YAML, see this [Learn YAML in X Minutes page](https://learnxinyminutes.com/docs/yaml/).\n",
    "  \n",
    "A simple YAML example for a GitHub Action that triggers on a `push` operation to the main branch might look as follows:  \n",
    "```yaml:\n",
    "on:\n",
    "  push:\n",
    "    branches:\n",
    "      - main\n",
    "```\n",
    "\n",
    "It is also possible to invoke an Action on every push to any branch, or specify multiple triggers at once:\n",
    "```yaml:\n",
    "on: [push, pull_request]\n",
    "```"
   ]
  },
  {
   "cell_type": "markdown",
   "id": "f1917f7803d46141",
   "metadata": {
    "collapsed": false
   },
   "source": [
    "# Investigating GitHub Actions\n",
    "\n",
    "Before we get started, we should define some common terminology for the [components of GitHub Actions](https://docs.github.com/en/actions/learn-github-actions/understanding-github-actions#the-components-of-github-actions).\n",
    "\n",
    "## Terminology\n",
    "\n",
    "- **GitHub Actions** - the CI/CD infrastructure that supports build, test, and deploymen automation\n",
    "- **Action** - A piece of code that supports a common and repeatable task via the GH Actions framework. Typically Docker, Javascript, or composite and can be published as a GitHub App.\n",
    "- **Workflow** - An automated process that contains 1 or more jobs, usually written in a YAML file.\n",
    "- **Runner** - A server that executes a single job from a workflow. GitHub hosted runners include Linux, Windows, and MacOS, or you can also set up [self-hosted runners](https://docs.github.com/en/actions/hosting-your-own-runners/managing-self-hosted-runners/about-self-hosted-runners).\n",
    "- **Job** - A job is a set of steps that either runs a shell script or executes an action. Job steps are executed sequentially but separate jobs can be run in parallel using separate runners."
   ]
  },
  {
   "cell_type": "markdown",
   "id": "91ec4e20993e2381",
   "metadata": {
    "collapsed": false
   },
   "source": [
    "## GitHub Workflows\n",
    "\n",
    "Workflows are typically specified in the top-level directory `.github/workflows`. We will incrementally improve a `test` YAML file from our [sample repo](https://github.com/gt-ospo/testing_ci_cd/) to investigate the pieces of a typical workflow.\n",
    "\n",
    "---\n",
    "**NOTE**\n",
    "\n",
    "To follow along with this training, please fork the [testing-with-ci-cd repo](https://github.com/gt-ospo/testing-with-ci-cd) so you can modify the .yml files and check the outputs.\n",
    "\n",
    "---"
   ]
  },
  {
   "cell_type": "markdown",
   "id": "5be4ee9918c76487",
   "metadata": {
    "collapsed": false
   },
   "source": [
    "## A Simple Testing Workflow (V1)\n",
    "\n",
    "The first version of our workflow, [test-v1.yml](https://github.com/gt-ospo/testing-with-ci-cd/blob/main/.github/workflows/test-v1.yml) shows a very basic Python-oriented workflow. Note that the job is named `test-v1`, it uses a GitHub supported runner based on an Ubuntu VM, and it executes several actions and steps to install a specific version of Python.\n",
    "\n",
    "```yaml:\n",
    "name: Grade Project Test - V1\n",
    "\n",
    "on:\n",
    "  push:\n",
    "    branches:\n",
    "      - 'main'\n",
    "\n",
    "jobs:\n",
    "  test-v1: # <-- this job name is totally up to you\n",
    "    runs-on: ubuntu-latest # <-- usually ubuntu-latest, windows-latest, or macos-latest\n",
    "\n",
    "    steps:\n",
    "      - uses: actions/checkout@v4 # <-- every job runs on a clean runner, so you almost always start a job by checking out the code\n",
    "\n",
    "      - name: Set up Python\n",
    "        uses: actions/setup-python@v5 # <-- this is a GitHub Marketplace action: https://github.com/actions/setup-python\n",
    "        with:\n",
    "          python-version: '3.10'\n",
    "\n",
    "      - name: Display Python version\n",
    "        run: python -c \"import sys; print(sys.version)\"\n",
    "\n",
    "      #If you look at the top level of the repo, you will notice that it includes a requirements.txt to add the correct Python packages to your runner\n",
    "      - name: Install dependencies\n",
    "        run: |\n",
    "          python -m pip install --upgrade pip\n",
    "          pip install -r requirements.txt\n",
    "```"
   ]
  },
  {
   "cell_type": "markdown",
   "id": "c1cf2056ab1fad23",
   "metadata": {
    "collapsed": false
   },
   "source": [
    "Let's say we tweak the Python version to use Python 3.12 instead of 3.10 and we commit to the main branch. Looking at the Actions tab, we see that this test will then run because we pushed to the main branch.\n",
    "\n",
    "![image.png](https://github.com/gt-ospo/oss-training/blob/main/img/lesson-04/ci-cd-test-v1-simple-output.jpg?raw=1)"
   ]
  },
  {
   "cell_type": "markdown",
   "id": "45cc4dfa76d99199",
   "metadata": {
    "collapsed": false
   },
   "source": [
    "Looking more in-depth at the action, we can see the individual steps of the job within the workflow as well as if it completed correctly.\n",
    "\n",
    "![image.png](https://github.com/gt-ospo/oss-training/blob/main/img/lesson-04/ci-cd-test-v1-output.jpg?raw=1)\n",
    "\n",
    "![image.png](https://github.com/gt-ospo/oss-training/blob/main/img/lesson-04/ci-cd-test-v1-simple-detailed-output.jpg?raw=1)"
   ]
  },
  {
   "cell_type": "markdown",
   "id": "Usg983MMFmfS",
   "metadata": {
    "id": "Usg983MMFmfS"
   },
   "source": [
    "### Hands-on Exercise 1\n",
    "> [!NOTE]  \n",
    ">  Update the Python version to 3.12 with `test-v1.yml`. Rerun the action and check the output."
   ]
  },
  {
   "cell_type": "markdown",
   "id": "7f94089d9ac843f9",
   "metadata": {
    "collapsed": false
   },
   "source": [
    "## Adding Tests and Tools to a Workflow (V2)\n",
    "\n",
    "## Running tests\n",
    "\n",
    "Building on our tests that we developed using PyTest in the last lesson, we can now automate the running of these tests using our CI/CD workflows."
   ]
  },
  {
   "cell_type": "markdown",
   "id": "FR16jZLeFV_Q",
   "metadata": {
    "id": "FR16jZLeFV_Q"
   },
   "source": [
    "## Adding code linting\n",
    "\n",
    "We can further improve our testing automation by adding a code linter job as part of another workflow file, [lint.yml](https://github.com/jyoung3131/testing-with-ci-cd/blob/main/.github/workflows/lint.yml).\n",
    "\n",
    "This YML file is very similar to the testing job, but it uses [ruff](https://astral.sh/ruff) to lint the test code.\n",
    "\n",
    "```yaml:\n",
    "\n",
    "name: Grade Project Lint\n",
    "\n",
    "on:\n",
    "  push:\n",
    "\n",
    "jobs:\n",
    "  lint:\n",
    "    runs-on: ubuntu-latest\n",
    "\n",
    "    steps:\n",
    "      - uses: actions/checkout@v4\n",
    "      - name: Set up Python\n",
    "\n",
    "        uses: actions/setup-python@v5\n",
    "        with:\n",
    "          python-version: '3.12'\n",
    "\n",
    "      - name: Install dependencies\n",
    "        run: |\n",
    "          python -m pip install --upgrade pip\n",
    "          pip install -r requirements.txt\n",
    "\n",
    "      - name: Lint with Ruff\n",
    "        run: |\n",
    "          pip install ruff\n",
    "          ruff --output-format=github .\n",
    "        continue-on-error: true\n",
    "```\n",
    "\n",
    "Looking at the output from the action, we notice that the job completes successfully but the linter reports several warnings of unused imports and parameters in the test code that could be addressed to improve the code quality.\n",
    "  \n",
    "![image.png](https://github.com/gt-ospo/oss-training/blob/main/img/lesson-04/ci-cd-lint-output.jpg?raw=1)"
   ]
  },
  {
   "cell_type": "markdown",
   "id": "511408143d48750f",
   "metadata": {
    "collapsed": false
   },
   "source": [
    "## Using Matrix Builds (V3)\n",
    "\n",
    "[Matrix Builds](https://docs.github.com/en/actions/using-jobs/using-a-matrix-for-your-jobs) allow you to build on the modular nature of jobs where each job can be launched **in parallel** using multiple backends (Linux, MacOS, Windows) or versions of software (Python 3.X).   \n",
    "\n",
    "Version 3 of our test YAML file includes the same testing as v2 of the workflow, but it also creates a matrix strategy to test multiple versions of Python with our codebase. Note that the runner, `ubuntu-latest` could also be updated with a matrix strategy to run on multiple different VM targets.\n",
    "\n",
    "```yaml:\n",
    "name: Grade Project Test - V3\n",
    "\n",
    "on:\n",
    "  push:\n",
    "    branches:\n",
    "      - 'main'\n",
    "\n",
    "jobs:\n",
    "  test-v3:\n",
    "    runs-on: ubuntu-latest # <-- usually ubuntu-latest, windows-latest, or macos-latest\n",
    "    strategy:\n",
    "      matrix: # <-- indicates we want to run this test job in a parametrized fashion, in this case specifying multiple Python versions\n",
    "        python-version: [\"3.9\", \"3.10\", \"3.11\", \"3.12\"]\n",
    "\n",
    "    steps:\n",
    "      - uses: actions/checkout@v4\n",
    "\n",
    "      - name: Set up Python ${{ matrix.python-version }}\n",
    "        uses: actions/setup-python@v5\n",
    "        with:\n",
    "          python-version: ${{ matrix.python-version }}\n",
    "\n",
    "      - name: Display Python version\n",
    "        run: python -c \"import sys; print(sys.version)\"\n",
    "\n",
    "      - name: Install dependencies\n",
    "        run: |\n",
    "          python -m pip install --upgrade pip\n",
    "          pip install -r requirements.txt\n",
    "\n",
    "      - name: Test with pytest\n",
    "        run: |\n",
    "          coverage run -m pytest\n",
    "          coverage xml -o coverage-${{ matrix.python-version }}.xml\n",
    "\n",
    "      - name: Upload pytest coverage results\n",
    "        uses: actions/upload-artifact@v4\n",
    "        with:\n",
    "          name: pytest-results-${{ matrix.python-version }}\n",
    "          path: coverage-${{ matrix.python-version }}.xml\n",
    "        if: ${{ always() }}\n",
    "```\n",
    "\n",
    "The output from the matrix build   \n",
    "\n",
    "![image](https://github.com/gt-ospo/oss-training/blob/main/img/lesson-04/ci-cd-test-v3-output.jpg?raw=1)"
   ]
  },
  {
   "cell_type": "markdown",
   "id": "2jNoohP0DhoK",
   "metadata": {
    "id": "2jNoohP0DhoK"
   },
   "source": [
    "### Hands-on Exercise 2\n",
    "\n",
    "> [!NOTE]  \n",
    "> Use the matrix strategy to add a run using either the macos-latest or windows-latest backend"
   ]
  },
  {
   "cell_type": "markdown",
   "id": "cyOQMOcCtWXY",
   "metadata": {
    "id": "cyOQMOcCtWXY"
   },
   "source": [
    "# Useful GitHub Actions Features\n",
    "\n",
    "#### Activating and Deactivating Workflows\n",
    "\n",
    "As we add more workflows, we may want to [enable or disable a specific workflow](https://docs.github.com/en/enterprise-server@3.9/actions/using-workflows/disabling-and-enabling-a-workflow). We might do this to save time or resources or just because we need to debug one specific workflow within the project.  \n",
    "\n",
    "As we see in the figure here, we can deactivate our older versions of the test workflow and just use the newest version, V3.  \n",
    "\n",
    "![image.png](https://github.com/gt-ospo/oss-training/blob/main/img/lesson-04/ci-cd-disable-workflow.jpg?raw=1)\n",
    "\n",
    "![image.png](https://github.com/gt-ospo/oss-training/blob/main/img/lesson-04/ci-cd-disable-workflow-2.jpg?raw=1)"
   ]
  },
  {
   "cell_type": "markdown",
   "id": "ffb1c623bad6d3eb",
   "metadata": {
    "collapsed": false
   },
   "source": [
    "# Deployment\n",
    "\n",
    "Once you have implemented automated testing for your codebase, you can then move on to the \"delivery\" part of CI/CD, which involves deploying your code either as an executable, tarball, or package for download or as part of a larger production environment. For our codebase, we would like to deploy a new Python package to [PyPI](https://pypi.org/).\n",
    "\n",
    "The [deploy.yml](https://github.com/jyoung3131/testing-with-ci-cd/blob/main/.github/workflows/deploy.yml) workflow file uses the `gh-action-pypi-publish` [action](https://github.com/pypa/gh-action-pypi-publish) to push our package to PyPI, but we need to examine two more advanced topics before looking at the deployment."
   ]
  },
  {
   "cell_type": "markdown",
   "id": "bfad10f20d6d0827",
   "metadata": {
    "collapsed": false
   },
   "source": [
    "## Usage of Secrets\n",
    "\n",
    "[GitHub Secrets](https://docs.github.com/en/actions/security-guides/using-secrets-in-github-actions) can be used to store sensitive data like keys or passwords that need to be used by a GitHub workflow. Secrets are specified at the repository level, and they can be shared with reviewers without revealing the sensitive data inside the secret.\n",
    "\n",
    "![image.png](https://github.com/gt-ospo/oss-training/blob/main/img/lesson-04/ci-cd-deployment-gh-secret.jpg?raw=1)"
   ]
  },
  {
   "cell_type": "markdown",
   "id": "78c9a6002be8179d",
   "metadata": {
    "collapsed": false
   },
   "source": [
    "## Concurrency with GitHub Action Jobs\n",
    "\n",
    "Jobs can typically run in parallel, but we might not want a deployment to run multiple, concurrent jobs especially if it is generating output artifacts. The `concurrency` keyword can be used with groups to limit the amount of parallelism for a particular job. In our deploy.yml, this looks as follows:  \n",
    "\n",
    "```yaml:  \n",
    "#Specifies that any job in this workflow can only run one at a time - cancel previously running jobs before starting a new one\n",
    "concurrency:\n",
    "  group: ${{ github.workflow }}\n",
    "  cancel-in-progress: true\n",
    "```\n",
    "\n",
    "Read more about concurrency with GitHub Actions [here](https://docs.github.com/en/actions/using-jobs/using-concurrency).  "
   ]
  },
  {
   "cell_type": "markdown",
   "id": "ATGDvSM4Gzx3",
   "metadata": {
    "id": "ATGDvSM4Gzx3"
   },
   "source": [
    "## Doing the Deployment  \n",
    "\n",
    "Now that we understand GitHub secret variables and concurrency, we can look at the final [deploy.yml](https://github.com/jyoung3131/testing-with-ci-cd/blob/main/.github/workflows/deploy.yml) workflow file.\n",
    "\n",
    "```yaml:  \n",
    "name: Grade Package Upload\n",
    "\n",
    "on:\n",
    "  # lets make this one manual invocation\n",
    "  # normally you would see a \"release\" trigger here or a \"create: tags: ...\" trigger because releases are usually tagged\n",
    "  workflow_dispatch:\n",
    "\n",
    "concurrency:\n",
    "  group: ${{ github.workflow }}\n",
    "  cancel-in-progress: true\n",
    "\n",
    "jobs:\n",
    "  deploy:\n",
    "    runs-on: ubuntu-latest\n",
    "    steps:\n",
    "      - uses: actions/checkout@v4\n",
    "\n",
    "      - name: Set up Python\n",
    "        uses: actions/setup-python@v5\n",
    "        with:\n",
    "          python-version: '3.x'\n",
    "\n",
    "      - name: Install dependencies\n",
    "        run: |\n",
    "          python -m pip install --upgrade pip\n",
    "          pip install build\n",
    "\n",
    "      - name: Build package\n",
    "        run: python -m build\n",
    "\n",
    "      - name: Publish package\n",
    "        # ends up here: https://pypi.org/project/CI-CD-Demo-Grade-Project/\n",
    "        uses: pypa/gh-action-pypi-publish@release/v1\n",
    "        with:\n",
    "          password: ${{ secrets.PYPI_API_TOKEN }}\n",
    "```\n",
    "\n",
    "This workflow is only triggered manually. You can see the output of this action by testing it out manually and checking out the uploaded package at [PyPI](https://pypi.org/project/CI-CD-Demo-Grade-Project/0.1/)."
   ]
  },
  {
   "cell_type": "markdown",
   "id": "d9bb24448df21925",
   "metadata": {
    "collapsed": false
   },
   "source": [
    "### Example Workflow: Open Telemetry\n",
    "\n",
    "Some of our summer projects have more complicated workflows that we can look at like [OpenTelemetry](\n",
    "https://github.com/open-telemetry/opentelemetry-python/tree/main/.github/workflows).\n",
    "\n",
    "Looking at the [test.yml file](https://github.com/open-telemetry/opentelemetry-python/blob/main/.github/workflows/test.yml), we can notice several features that we have explored earlier:\n",
    "\n",
    "1) The usage of actions to checkout code and install Python  \n",
    "2) The installation of tox for testing automation  \n",
    "3) The usage of matrix strategies to test different packages, Python, and OS configurations\n",
    "\n",
    "----"
   ]
  },
  {
   "cell_type": "markdown",
   "id": "bxu4cfRErKw8",
   "metadata": {
    "id": "bxu4cfRErKw8"
   },
   "source": [
    "#### Learn More\n",
    "Other example GitHub Action pipelines:\n",
    "- [Open Horizon Pipelines](https://github.com/open-horizon/anax/tree/master/.github/workflows)\n",
    "- [Open Horizon Web Pipeline](https://github.com/open-horizon/open-horizon.github.io/tree/master/.github/workflows)"
   ]
  },
  {
   "cell_type": "markdown",
   "id": "4aef83320938b99d",
   "metadata": {
    "collapsed": false
   },
   "source": [
    "# Self-hosted Runners    \n",
    "A [self-hosted runner](https://docs.github.com/en/actions/hosting-your-own-runners/managing-self-hosted-runners/about-self-hosted-runners) is a GitHub runner that connects to a local service or daemon on a local server or VM. A self-hosted runner is useful if you need to test some target HW/SW that is not easily available via GitHub, you need to test on your local production platform, or if you don't want to use the cloud to run with your code or data.\n",
    "  \n",
    "The Spatter benchmark suite uses a self-hosted runner to test the CUDA backend with a recent NVIDIA GPU, and the relevant portion of its build.yml file contains the following:  \n",
    "\n",
    "```yaml:\n",
    "  build-cuda:\n",
    "    runs-on: self-hosted\n",
    "    steps:\n",
    "    - uses: actions/checkout@v4\n",
    "    - name: Run batch file\n",
    "      run: cd tests/misc && chmod +x run-crnch-cuda.sh && sbatch run-crnch-cuda.sh\n",
    "```  \n",
    "This runner is set up under the [Actions->runner tab for the project](https://github.com/hpcgarage/spatter/actions/runners), and when a push to the main branch is triggered it connects to the self-hosted service and runs the GitHub job on a node with an NVIDIA GPU.\n",
    "\n",
    "![image](https://github.com/gt-ospo/oss-training/blob/main/img/lesson-04/ci-cd-self-hosted-runner-cuda.jpg?raw=1)  \n",
    "\n",
    "![image](https://github.com/gt-ospo/oss-training/blob/main/img/lesson-04/ci-cd-self-hosted-runner-cuda-output.jpg?raw=1)"
   ]
  },
  {
   "cell_type": "markdown",
   "id": "paZ9B-mkHlYp",
   "metadata": {
    "id": "paZ9B-mkHlYp"
   },
   "source": [
    "### Optional Hands-on\n",
    "\n",
    "  * Test adding a self-hosted runner for a GPU or Arm architecture using documentation for the [CRNCH Rogues Gallery](https://gt-crnch-rg.readthedocs.io/en/main/general/ci-runners.html)!\n",
    "  * This is a challenging exercise because it requires you to be comfortable with setting up GitHub CI/CD pipelines, creating a self-hosted runner, and testing it with a remote cluster."
   ]
  },
  {
   "cell_type": "markdown",
   "id": "heQQwr2sHJef",
   "metadata": {
    "id": "heQQwr2sHJef"
   },
   "source": [
    "# Hands On Practice\n",
    "\n",
    "Fork the codebase and do the following:  \n",
    "\n",
    "1) Update the Python version to 3.12 with `test-v1.yml`. Run the action and check the output.\n",
    "\n",
    "2) Update the matrix for `test-v3.yml` to build on window-latest and macos-latest.\n",
    "\n",
    "3) Invoke lint.yml from test.yml.  \n",
    "\n",
    "4) Investigate and learn more about using self-hosted runners."
   ]
  }
 ],
 "metadata": {
  "colab": {
   "provenance": []
  },
  "kernelspec": {
   "display_name": "Python 3 (ipykernel)",
   "language": "python",
   "name": "python3"
  },
  "language_info": {
   "codemirror_mode": {
    "name": "ipython",
    "version": 3
   },
   "file_extension": ".py",
   "mimetype": "text/x-python",
   "name": "python",
   "nbconvert_exporter": "python",
   "pygments_lexer": "ipython3",
   "version": "3.10.12"
  }
 },
 "nbformat": 4,
 "nbformat_minor": 5
}
